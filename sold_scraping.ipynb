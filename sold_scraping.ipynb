{
 "cells": [
  {
   "cell_type": "code",
   "execution_count": 8,
   "metadata": {},
   "outputs": [],
   "source": [
    "from bs4 import BeautifulSoup\n",
    "from selenium import webdriver\n",
    "import pandas as pd\n",
    "from time import sleep\n",
    "from selenium.webdriver.common.by import By"
   ]
  },
  {
   "cell_type": "code",
   "execution_count": 9,
   "metadata": {},
   "outputs": [
    {
     "name": "stderr",
     "output_type": "stream",
     "text": [
      "C:\\Users\\patri\\AppData\\Local\\Temp\\ipykernel_14644\\200413298.py:5: DeprecationWarning: executable_path has been deprecated, please pass in a Service object\n",
      "  driver = webdriver.Chrome(PATH,chrome_options=chrome_options)\n",
      "C:\\Users\\patri\\AppData\\Local\\Temp\\ipykernel_14644\\200413298.py:5: DeprecationWarning: use options instead of chrome_options\n",
      "  driver = webdriver.Chrome(PATH,chrome_options=chrome_options)\n"
     ]
    }
   ],
   "source": [
    "PATH = r\"C:/Program Files/Google/Chrome\\Application/chromedriver.exe\"\n",
    "chrome_options = webdriver.ChromeOptions()\n",
    "chrome_options.add_argument(\"--incognito\")\n",
    "chrome_options.add_argument('headless')\n",
    "driver = webdriver.Chrome(PATH,chrome_options=chrome_options)"
   ]
  },
  {
   "cell_type": "code",
   "execution_count": 10,
   "metadata": {},
   "outputs": [],
   "source": [
    "posts=[]"
   ]
  },
  {
   "cell_type": "markdown",
   "metadata": {},
   "source": [
    "this function opens asuntojen.hintatiedot.fi (restricted to \"kerrostalo\") and scrapes the information about sold appartments in Helsinki within the last year. It fetches area, type,room number, sqm, price and price/sqm. if we want to limit the number of pages, this can be changed in the \"while\" condition. "
   ]
  },
  {
   "cell_type": "code",
   "execution_count": 11,
   "metadata": {},
   "outputs": [],
   "source": [
    "def get_posts():\n",
    "    driver.get(f\"https://asuntojen.hintatiedot.fi/haku/?c=Helsinki&cr=2&ns=Ala-malmi&ns=Ala-tikkurila&ns=Alppiharju&ns=Alppikyl%C3%A4&ns=Alppila&ns=Arabia&ns=Arabianranta&ns=Aurinkolahti&ns=Brunak%3Frr&ns=Eira&ns=Eiranranta&ns=Etel%3F-haaga&ns=Etel%C3%A4-haaga&ns=Etu-t%C3%B6%C3%B6l%C3%B6&ns=Fallpakka&ns=Haaga&ns=Haga&ns=Hakaniemi&ns=Hakuninmaa&ns=Hallainvuori&ns=Harju&ns=Heidehof&ns=Heikinlaakso&ns=Helsinki&ns=Hermanni&ns=Herttoniemenranta&ns=Herttoniemi&ns=Hevossalmi&ns=Hietalahti&ns=Honkasuo&ns=Honkasuo%2C+malminkartano&ns=Ilmala&ns=It%C3%A4+pakila&ns=It%C3%A4-pakila&ns=It%C3%A4-pasila&ns=It%C3%A4keskus&ns=Jakom%C3%A4ki&ns=Jollas&ns=J%C3%A4tk%C3%A4saari&ns=Kaarela&ns=Kaartinkaupunki&ns=Kaisaniemi&ns=Kaivopuisto&ns=Kalasatama&ns=Kallahti&ns=Kallio&ns=Kallio%2C+harju&ns=Kamppi&ns=Kamppi+hietalahti&ns=Kannelm%3Fki&ns=Kannelm%C3%A4ki&ns=Katajanokka&ns=Keski-t%C3%B6%C3%B6l%C3%B6&ns=Keskusta&ns=Kivihaka&ns=Kivikko&ns=Kluuvi&ns=Konala&ns=Konepaja&ns=Konepaja%2C+vallila&ns=Kontula&ns=Koskela&ns=Kruununhaka&ns=Kruunuvuorenranta&ns=Kulosaari&ns=Kumpula&ns=Kuninkaantammi&ns=Kurkim%C3%A4ki&ns=Kuusisaari&ns=K%C3%A4pyl%C3%A4&ns=Laajasalo&ns=Laakso&ns=Landbo&ns=Lassila&ns=Latokartano&ns=Lauttasaari&ns=Lehtisaari&ns=L%C3%A4nsi-pakila&ns=L%C3%A4nsi-pasila&ns=Malmi&ns=Malminkartano&ns=Marjaniemi&ns=Maunula&ns=Maununneva&ns=Meilahti&ns=Mellunkyl%C3%A4&ns=Mellunm%C3%A4ki&ns=Meri-rastila&ns=Merihaka&ns=Mets%C3%A4l%C3%A4&ns=Munkkiniemi&ns=Munkkisaari&ns=Munkkivuori&ns=Munkkivuori%2C+talinranta&ns=Myllykyl%C3%A4&ns=Myllypuro&ns=Niemenm%3Fki&ns=Niemenm%C3%A4ki&ns=N%C3%A4kinpuisto&ns=Oulunkyl%C3%A4&ns=Oulunkyl%C3%A4%2Fpatola&ns=Pajam%C3%A4ki&ns=Pakila&ns=Palohein%C3%A4&ns=Pasila&ns=Patola&ns=Pihlajam%C3%A4ki&ns=Pihlajisto&ns=Pikku+huopalahti&ns=Pikku-huopalahti&ns=Pit%C3%A4j%C3%A4nm%C3%A4ki&ns=Pohjois-haaga&ns=Puistola&ns=Pukinm%3Fki&ns=Pukinm%C3%A4ki&ns=Punavuori&ns=Puotila&ns=Puotinharju&ns=Ramsinniemi&ns=Ramsinranta&ns=Rastila&ns=Reimarla&ns=Roihuvuori&ns=Ruoholahti&ns=Ruskeasuo&ns=Ruskeasuokeasuo&ns=Savela&ns=Sep%C3%A4nm%C3%A4ki&ns=Siltam%C3%A4ki&ns=Siltasaari&ns=Suurmets%C3%A4&ns=Suutarila&ns=Suutarila+%2840%29&ns=S%C3%B6rn%C3%A4inen&ns=Taka+t%C3%B6%C3%B6l%C3%B6&ns=Taka-t%3F%3Fl%3F&ns=Taka-t%C3%B6%C3%B6l%C3%B6&ns=Tali&ns=Tammisalo&ns=Tapanila&ns=Tapaninkyl%C3%A4&ns=Tapaninvainio&ns=Tapulikaupunki&ns=Torkkelinm%C3%A4ki&ns=Torpparinm%C3%A4ki&ns=Toukola&ns=Tuomarinkyl%C3%A4&ns=T%C3%B6yrynummi&ns=T%C3%B6%C3%B6l%C3%B6&ns=Ullanlinna&ns=Vallila&ns=Vanha+kannelm%C3%A4ki&ns=Vanha-vuosaari&ns=Vanhakaupunki&ns=Vanhankaupunginkoski&ns=Vartioharju&ns=Vartiokyl%C3%A4&ns=Vermo&ns=Ver%C3%A4j%C3%A4laakso&ns=Ver%C3%A4j%C3%A4m%C3%A4ki&ns=Vesala&ns=Viikinm%C3%A4ki&ns=Viikki&ns=Viikki%2C+latokartano&ns=Vuosaari&ns=Yliskyl%C3%A4&ns=Yl%C3%A4-malmi&h=1&t=3&l=0&z=1&search=1&sf=0&so=a&renderType=renderTypeTable&print=0&submit=%C2%AB+edellinen+sivu\")\n",
    "    \n",
    "    count=1\n",
    "    #if number of pages should be restricted: change \"True\" in \"while True\" to \"while count< NUMBER\"\n",
    "    while True:\n",
    "        count+=1\n",
    "        soup = BeautifulSoup(driver.page_source, 'html.parser')\n",
    "        element = driver.find_element(By.CSS_SELECTOR, '[value=\"seuraava sivu »\"]')\n",
    "        table = soup.find(\"table\", id=\"mainTable\")\n",
    "        \n",
    "        body = table.find_all(class_=\"odd\")\n",
    "        rows=body[1].find_all(\"tr\")\n",
    "        \n",
    "        for row in rows:\n",
    "            \n",
    "            areas=row.find(\"td\",class_=\"neighborhood\")\n",
    "            type=row.find(\"td\",class_=\"houseType\")\n",
    "            rooms=row.find(\"td\",class_=\"\")\n",
    "            nums=row.find_all(\"td\",class_=\"cellAlignRight\")\n",
    "            if areas:\n",
    "                post={\n",
    "                \"area\":areas.text,\n",
    "                \"type\":type.text,\n",
    "                \"room\":rooms.text,\n",
    "                \"sqm\":nums[0].text,\n",
    "                \"price\":nums[1].text,\n",
    "                \"price/sqm\":nums[2].text\n",
    "                }\n",
    "                posts.append(post)\n",
    "        sleep(2) \n",
    "        element.click()        \n",
    "    return"
   ]
  },
  {
   "cell_type": "code",
   "execution_count": 12,
   "metadata": {},
   "outputs": [
    {
     "ename": "TimeoutException",
     "evalue": "Message: timeout: Timed out receiving message from renderer: 300.000\n  (Session info: headless chrome=103.0.5060.134)\nStacktrace:\nBacktrace:\n\tOrdinal0 [0x00246463+2188387]\n\tOrdinal0 [0x001DE461+1762401]\n\tOrdinal0 [0x000F3D78+802168]\n\tOrdinal0 [0x000E5E3A+745018]\n\tOrdinal0 [0x000E4C28+740392]\n\tOrdinal0 [0x000E5228+741928]\n\tOrdinal0 [0x000EEF2F+782127]\n\tOrdinal0 [0x000F9FBB+827323]\n\tOrdinal0 [0x000FD310+840464]\n\tOrdinal0 [0x000E54F6+742646]\n\tOrdinal0 [0x000F9E05+826885]\n\tOrdinal0 [0x0014CF6D+1167213]\n\tOrdinal0 [0x0013C5F6+1099254]\n\tOrdinal0 [0x00116BE0+945120]\n\tOrdinal0 [0x00117AD6+948950]\n\tGetHandleVerifier [0x004E71F2+2712546]\n\tGetHandleVerifier [0x004D886D+2652765]\n\tGetHandleVerifier [0x002D002A+520730]\n\tGetHandleVerifier [0x002CEE06+516086]\n\tOrdinal0 [0x001E468B+1787531]\n\tOrdinal0 [0x001E8E88+1805960]\n\tOrdinal0 [0x001E8F75+1806197]\n\tOrdinal0 [0x001F1DF1+1842673]\n\tBaseThreadInitThunk [0x75066739+25]\n\tRtlGetFullPathName_UEx [0x77308FEF+1215]\n\tRtlGetFullPathName_UEx [0x77308FBD+1165]\n\t(No symbol) [0x00000000]\n",
     "output_type": "error",
     "traceback": [
      "\u001b[1;31m---------------------------------------------------------------------------\u001b[0m",
      "\u001b[1;31mTimeoutException\u001b[0m                          Traceback (most recent call last)",
      "\u001b[1;32mc:\\Users\\patri\\Documents\\pyscrap\\env\\housing\\sold_scraping.ipynb Zelle 5\u001b[0m in \u001b[0;36m<cell line: 1>\u001b[1;34m()\u001b[0m\n\u001b[1;32m----> <a href='vscode-notebook-cell:/c%3A/Users/patri/Documents/pyscrap/env/housing/sold_scraping.ipynb#ch0000004?line=0'>1</a>\u001b[0m get_posts()\n",
      "\u001b[1;32mc:\\Users\\patri\\Documents\\pyscrap\\env\\housing\\sold_scraping.ipynb Zelle 5\u001b[0m in \u001b[0;36mget_posts\u001b[1;34m()\u001b[0m\n\u001b[0;32m     <a href='vscode-notebook-cell:/c%3A/Users/patri/Documents/pyscrap/env/housing/sold_scraping.ipynb#ch0000004?line=28'>29</a>\u001b[0m             posts\u001b[39m.\u001b[39mappend(post)\n\u001b[0;32m     <a href='vscode-notebook-cell:/c%3A/Users/patri/Documents/pyscrap/env/housing/sold_scraping.ipynb#ch0000004?line=33'>34</a>\u001b[0m     sleep(\u001b[39m2\u001b[39m) \n\u001b[1;32m---> <a href='vscode-notebook-cell:/c%3A/Users/patri/Documents/pyscrap/env/housing/sold_scraping.ipynb#ch0000004?line=34'>35</a>\u001b[0m     element\u001b[39m.\u001b[39;49mclick()\n\u001b[0;32m     <a href='vscode-notebook-cell:/c%3A/Users/patri/Documents/pyscrap/env/housing/sold_scraping.ipynb#ch0000004?line=38'>39</a>\u001b[0m \u001b[39m\"\"\"cards = soup.find_all(lambda tag: tag.name == 'div' and \u001b[39;00m\n\u001b[0;32m     <a href='vscode-notebook-cell:/c%3A/Users/patri/Documents/pyscrap/env/housing/sold_scraping.ipynb#ch0000004?line=39'>40</a>\u001b[0m \u001b[39m                               tag.get('class') == ['cards__card']) \u001b[39;00m\n\u001b[0;32m     <a href='vscode-notebook-cell:/c%3A/Users/patri/Documents/pyscrap/env/housing/sold_scraping.ipynb#ch0000004?line=40'>41</a>\u001b[0m \u001b[39m\u001b[39;00m\n\u001b[1;32m   (...)\u001b[0m\n\u001b[0;32m     <a href='vscode-notebook-cell:/c%3A/Users/patri/Documents/pyscrap/env/housing/sold_scraping.ipynb#ch0000004?line=52'>53</a>\u001b[0m \u001b[39m    \u001b[39;00m\n\u001b[0;32m     <a href='vscode-notebook-cell:/c%3A/Users/patri/Documents/pyscrap/env/housing/sold_scraping.ipynb#ch0000004?line=53'>54</a>\u001b[0m \u001b[39m    posts.append(post)\"\"\"\u001b[39;00m\n\u001b[0;32m     <a href='vscode-notebook-cell:/c%3A/Users/patri/Documents/pyscrap/env/housing/sold_scraping.ipynb#ch0000004?line=55'>56</a>\u001b[0m \u001b[39mreturn\u001b[39;00m\n",
      "File \u001b[1;32m~\\AppData\\Local\\Packages\\PythonSoftwareFoundation.Python.3.10_qbz5n2kfra8p0\\LocalCache\\local-packages\\Python310\\site-packages\\selenium\\webdriver\\remote\\webelement.py:88\u001b[0m, in \u001b[0;36mWebElement.click\u001b[1;34m(self)\u001b[0m\n\u001b[0;32m     86\u001b[0m \u001b[39mdef\u001b[39;00m \u001b[39mclick\u001b[39m(\u001b[39mself\u001b[39m) \u001b[39m-\u001b[39m\u001b[39m>\u001b[39m \u001b[39mNone\u001b[39;00m:\n\u001b[0;32m     87\u001b[0m     \u001b[39m\"\"\"Clicks the element.\"\"\"\u001b[39;00m\n\u001b[1;32m---> 88\u001b[0m     \u001b[39mself\u001b[39;49m\u001b[39m.\u001b[39;49m_execute(Command\u001b[39m.\u001b[39;49mCLICK_ELEMENT)\n",
      "File \u001b[1;32m~\\AppData\\Local\\Packages\\PythonSoftwareFoundation.Python.3.10_qbz5n2kfra8p0\\LocalCache\\local-packages\\Python310\\site-packages\\selenium\\webdriver\\remote\\webelement.py:396\u001b[0m, in \u001b[0;36mWebElement._execute\u001b[1;34m(self, command, params)\u001b[0m\n\u001b[0;32m    394\u001b[0m     params \u001b[39m=\u001b[39m {}\n\u001b[0;32m    395\u001b[0m params[\u001b[39m'\u001b[39m\u001b[39mid\u001b[39m\u001b[39m'\u001b[39m] \u001b[39m=\u001b[39m \u001b[39mself\u001b[39m\u001b[39m.\u001b[39m_id\n\u001b[1;32m--> 396\u001b[0m \u001b[39mreturn\u001b[39;00m \u001b[39mself\u001b[39;49m\u001b[39m.\u001b[39;49m_parent\u001b[39m.\u001b[39;49mexecute(command, params)\n",
      "File \u001b[1;32m~\\AppData\\Local\\Packages\\PythonSoftwareFoundation.Python.3.10_qbz5n2kfra8p0\\LocalCache\\local-packages\\Python310\\site-packages\\selenium\\webdriver\\remote\\webdriver.py:435\u001b[0m, in \u001b[0;36mWebDriver.execute\u001b[1;34m(self, driver_command, params)\u001b[0m\n\u001b[0;32m    433\u001b[0m response \u001b[39m=\u001b[39m \u001b[39mself\u001b[39m\u001b[39m.\u001b[39mcommand_executor\u001b[39m.\u001b[39mexecute(driver_command, params)\n\u001b[0;32m    434\u001b[0m \u001b[39mif\u001b[39;00m response:\n\u001b[1;32m--> 435\u001b[0m     \u001b[39mself\u001b[39;49m\u001b[39m.\u001b[39;49merror_handler\u001b[39m.\u001b[39;49mcheck_response(response)\n\u001b[0;32m    436\u001b[0m     response[\u001b[39m'\u001b[39m\u001b[39mvalue\u001b[39m\u001b[39m'\u001b[39m] \u001b[39m=\u001b[39m \u001b[39mself\u001b[39m\u001b[39m.\u001b[39m_unwrap_value(\n\u001b[0;32m    437\u001b[0m         response\u001b[39m.\u001b[39mget(\u001b[39m'\u001b[39m\u001b[39mvalue\u001b[39m\u001b[39m'\u001b[39m, \u001b[39mNone\u001b[39;00m))\n\u001b[0;32m    438\u001b[0m     \u001b[39mreturn\u001b[39;00m response\n",
      "File \u001b[1;32m~\\AppData\\Local\\Packages\\PythonSoftwareFoundation.Python.3.10_qbz5n2kfra8p0\\LocalCache\\local-packages\\Python310\\site-packages\\selenium\\webdriver\\remote\\errorhandler.py:247\u001b[0m, in \u001b[0;36mErrorHandler.check_response\u001b[1;34m(self, response)\u001b[0m\n\u001b[0;32m    245\u001b[0m         alert_text \u001b[39m=\u001b[39m value[\u001b[39m'\u001b[39m\u001b[39malert\u001b[39m\u001b[39m'\u001b[39m]\u001b[39m.\u001b[39mget(\u001b[39m'\u001b[39m\u001b[39mtext\u001b[39m\u001b[39m'\u001b[39m)\n\u001b[0;32m    246\u001b[0m     \u001b[39mraise\u001b[39;00m exception_class(message, screen, stacktrace, alert_text)  \u001b[39m# type: ignore[call-arg]  # mypy is not smart enough here\u001b[39;00m\n\u001b[1;32m--> 247\u001b[0m \u001b[39mraise\u001b[39;00m exception_class(message, screen, stacktrace)\n",
      "\u001b[1;31mTimeoutException\u001b[0m: Message: timeout: Timed out receiving message from renderer: 300.000\n  (Session info: headless chrome=103.0.5060.134)\nStacktrace:\nBacktrace:\n\tOrdinal0 [0x00246463+2188387]\n\tOrdinal0 [0x001DE461+1762401]\n\tOrdinal0 [0x000F3D78+802168]\n\tOrdinal0 [0x000E5E3A+745018]\n\tOrdinal0 [0x000E4C28+740392]\n\tOrdinal0 [0x000E5228+741928]\n\tOrdinal0 [0x000EEF2F+782127]\n\tOrdinal0 [0x000F9FBB+827323]\n\tOrdinal0 [0x000FD310+840464]\n\tOrdinal0 [0x000E54F6+742646]\n\tOrdinal0 [0x000F9E05+826885]\n\tOrdinal0 [0x0014CF6D+1167213]\n\tOrdinal0 [0x0013C5F6+1099254]\n\tOrdinal0 [0x00116BE0+945120]\n\tOrdinal0 [0x00117AD6+948950]\n\tGetHandleVerifier [0x004E71F2+2712546]\n\tGetHandleVerifier [0x004D886D+2652765]\n\tGetHandleVerifier [0x002D002A+520730]\n\tGetHandleVerifier [0x002CEE06+516086]\n\tOrdinal0 [0x001E468B+1787531]\n\tOrdinal0 [0x001E8E88+1805960]\n\tOrdinal0 [0x001E8F75+1806197]\n\tOrdinal0 [0x001F1DF1+1842673]\n\tBaseThreadInitThunk [0x75066739+25]\n\tRtlGetFullPathName_UEx [0x77308FEF+1215]\n\tRtlGetFullPathName_UEx [0x77308FBD+1165]\n\t(No symbol) [0x00000000]\n"
     ]
    }
   ],
   "source": [
    "get_posts()"
   ]
  },
  {
   "cell_type": "code",
   "execution_count": null,
   "metadata": {},
   "outputs": [],
   "source": [
    "df=pd.DataFrame(posts)"
   ]
  },
  {
   "cell_type": "markdown",
   "metadata": {},
   "source": [
    "the data is savet to \"sold.csv\""
   ]
  },
  {
   "cell_type": "code",
   "execution_count": null,
   "metadata": {},
   "outputs": [],
   "source": [
    "df.to_csv(\"sold.csv\",index=False)"
   ]
  }
 ],
 "metadata": {
  "kernelspec": {
   "display_name": "Python 3.10.5 64-bit (windows store)",
   "language": "python",
   "name": "python3"
  },
  "language_info": {
   "codemirror_mode": {
    "name": "ipython",
    "version": 3
   },
   "file_extension": ".py",
   "mimetype": "text/x-python",
   "name": "python",
   "nbconvert_exporter": "python",
   "pygments_lexer": "ipython3",
   "version": "3.10.5"
  },
  "orig_nbformat": 4,
  "vscode": {
   "interpreter": {
    "hash": "582bac1d02c6c8cbd27dd91c74044d14e2b63f14cda36d56af554a884b3aa477"
   }
  }
 },
 "nbformat": 4,
 "nbformat_minor": 2
}
