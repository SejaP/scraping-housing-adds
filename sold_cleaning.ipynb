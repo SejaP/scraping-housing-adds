{
 "cells": [
  {
   "cell_type": "code",
   "execution_count": 37,
   "metadata": {},
   "outputs": [],
   "source": [
    "import pandas as pd\n",
    "from unidecode import unidecode\n",
    "import seaborn as sns\n",
    "import matplotlib.pyplot as plt\n",
    "import re\n",
    "%matplotlib inline"
   ]
  },
  {
   "cell_type": "markdown",
   "metadata": {},
   "source": [
    "opening and cleaning the data from \"sold.csv\""
   ]
  },
  {
   "cell_type": "code",
   "execution_count": 38,
   "metadata": {},
   "outputs": [
    {
     "name": "stdout",
     "output_type": "stream",
     "text": [
      "<class 'pandas.core.frame.DataFrame'>\n",
      "RangeIndex: 2109 entries, 0 to 2108\n",
      "Data columns (total 6 columns):\n",
      " #   Column     Non-Null Count  Dtype \n",
      "---  ------     --------------  ----- \n",
      " 0   area       2109 non-null   object\n",
      " 1   type       2109 non-null   object\n",
      " 2   room       2106 non-null   object\n",
      " 3   sqm        2109 non-null   object\n",
      " 4   price      2109 non-null   int64 \n",
      " 5   price/sqm  2109 non-null   int64 \n",
      "dtypes: int64(2), object(4)\n",
      "memory usage: 99.0+ KB\n"
     ]
    }
   ],
   "source": [
    "df=pd.read_csv(\"sold.csv\")\n",
    "df.info()"
   ]
  },
  {
   "cell_type": "code",
   "execution_count": 39,
   "metadata": {},
   "outputs": [
    {
     "data": {
      "text/html": [
       "<div>\n",
       "<style scoped>\n",
       "    .dataframe tbody tr th:only-of-type {\n",
       "        vertical-align: middle;\n",
       "    }\n",
       "\n",
       "    .dataframe tbody tr th {\n",
       "        vertical-align: top;\n",
       "    }\n",
       "\n",
       "    .dataframe thead th {\n",
       "        text-align: right;\n",
       "    }\n",
       "</style>\n",
       "<table border=\"1\" class=\"dataframe\">\n",
       "  <thead>\n",
       "    <tr style=\"text-align: right;\">\n",
       "      <th></th>\n",
       "      <th>area</th>\n",
       "      <th>type</th>\n",
       "      <th>room</th>\n",
       "      <th>sqm</th>\n",
       "      <th>price</th>\n",
       "      <th>price/sqm</th>\n",
       "    </tr>\n",
       "  </thead>\n",
       "  <tbody>\n",
       "    <tr>\n",
       "      <th>0</th>\n",
       "      <td>Kallio</td>\n",
       "      <td>kt</td>\n",
       "      <td>1h, kk</td>\n",
       "      <td>28,50</td>\n",
       "      <td>225000</td>\n",
       "      <td>7895</td>\n",
       "    </tr>\n",
       "    <tr>\n",
       "      <th>1</th>\n",
       "      <td>Malmi</td>\n",
       "      <td>kt</td>\n",
       "      <td>1h, kk, ikkunal...</td>\n",
       "      <td>33,00</td>\n",
       "      <td>106000</td>\n",
       "      <td>3212</td>\n",
       "    </tr>\n",
       "    <tr>\n",
       "      <th>2</th>\n",
       "      <td>Harju</td>\n",
       "      <td>kt</td>\n",
       "      <td>1h+kph</td>\n",
       "      <td>24,00</td>\n",
       "      <td>195000</td>\n",
       "      <td>8125</td>\n",
       "    </tr>\n",
       "    <tr>\n",
       "      <th>3</th>\n",
       "      <td>Kamppi</td>\n",
       "      <td>kt</td>\n",
       "      <td>1h, kk, alkovi,...</td>\n",
       "      <td>32,00</td>\n",
       "      <td>294000</td>\n",
       "      <td>9188</td>\n",
       "    </tr>\n",
       "    <tr>\n",
       "      <th>4</th>\n",
       "      <td>Lauttasaari</td>\n",
       "      <td>kt</td>\n",
       "      <td>1h, avok. kph, ...</td>\n",
       "      <td>33,00</td>\n",
       "      <td>215000</td>\n",
       "      <td>6515</td>\n",
       "    </tr>\n",
       "  </tbody>\n",
       "</table>\n",
       "</div>"
      ],
      "text/plain": [
       "          area type                room    sqm   price  price/sqm\n",
       "0       Kallio   kt              1h, kk  28,50  225000       7895\n",
       "1        Malmi   kt  1h, kk, ikkunal...  33,00  106000       3212\n",
       "2        Harju   kt              1h+kph  24,00  195000       8125\n",
       "3       Kamppi   kt  1h, kk, alkovi,...  32,00  294000       9188\n",
       "4  Lauttasaari   kt  1h, avok. kph, ...  33,00  215000       6515"
      ]
     },
     "execution_count": 39,
     "metadata": {},
     "output_type": "execute_result"
    }
   ],
   "source": [
    "df.head()"
   ]
  },
  {
   "cell_type": "code",
   "execution_count": 40,
   "metadata": {},
   "outputs": [
    {
     "name": "stdout",
     "output_type": "stream",
     "text": [
      "<class 'pandas.core.frame.DataFrame'>\n",
      "RangeIndex: 2109 entries, 0 to 2108\n",
      "Data columns (total 6 columns):\n",
      " #   Column     Non-Null Count  Dtype \n",
      "---  ------     --------------  ----- \n",
      " 0   area       2109 non-null   string\n",
      " 1   type       2109 non-null   string\n",
      " 2   room       2106 non-null   string\n",
      " 3   sqm        2109 non-null   string\n",
      " 4   price      2109 non-null   Int64 \n",
      " 5   price/sqm  2109 non-null   Int64 \n",
      "dtypes: Int64(2), string(4)\n",
      "memory usage: 103.1 KB\n"
     ]
    }
   ],
   "source": [
    "df=df.convert_dtypes()\n",
    "\n",
    "df.info()"
   ]
  },
  {
   "cell_type": "code",
   "execution_count": 41,
   "metadata": {},
   "outputs": [],
   "source": [
    "df.sqm=df.sqm.str.replace(\",\",\".\").astype(float)\n"
   ]
  },
  {
   "cell_type": "markdown",
   "metadata": {},
   "source": [
    "Redundand, because the data was restricted to \"kerrostalo\" during scraping already"
   ]
  },
  {
   "cell_type": "code",
   "execution_count": 42,
   "metadata": {},
   "outputs": [],
   "source": [
    "df.type=\"Kerrostalo\""
   ]
  },
  {
   "cell_type": "code",
   "execution_count": 43,
   "metadata": {},
   "outputs": [
    {
     "data": {
      "text/html": [
       "<div>\n",
       "<style scoped>\n",
       "    .dataframe tbody tr th:only-of-type {\n",
       "        vertical-align: middle;\n",
       "    }\n",
       "\n",
       "    .dataframe tbody tr th {\n",
       "        vertical-align: top;\n",
       "    }\n",
       "\n",
       "    .dataframe thead th {\n",
       "        text-align: right;\n",
       "    }\n",
       "</style>\n",
       "<table border=\"1\" class=\"dataframe\">\n",
       "  <thead>\n",
       "    <tr style=\"text-align: right;\">\n",
       "      <th></th>\n",
       "      <th>area</th>\n",
       "      <th>type</th>\n",
       "      <th>room</th>\n",
       "      <th>sqm</th>\n",
       "      <th>price</th>\n",
       "      <th>price/sqm</th>\n",
       "    </tr>\n",
       "  </thead>\n",
       "  <tbody>\n",
       "    <tr>\n",
       "      <th>0</th>\n",
       "      <td>Kallio</td>\n",
       "      <td>Kerrostalo</td>\n",
       "      <td>1h, kk</td>\n",
       "      <td>28.5</td>\n",
       "      <td>225000</td>\n",
       "      <td>7895</td>\n",
       "    </tr>\n",
       "    <tr>\n",
       "      <th>1</th>\n",
       "      <td>Malmi</td>\n",
       "      <td>Kerrostalo</td>\n",
       "      <td>1h, kk, ikkunal...</td>\n",
       "      <td>33.0</td>\n",
       "      <td>106000</td>\n",
       "      <td>3212</td>\n",
       "    </tr>\n",
       "    <tr>\n",
       "      <th>2</th>\n",
       "      <td>Harju</td>\n",
       "      <td>Kerrostalo</td>\n",
       "      <td>1h+kph</td>\n",
       "      <td>24.0</td>\n",
       "      <td>195000</td>\n",
       "      <td>8125</td>\n",
       "    </tr>\n",
       "    <tr>\n",
       "      <th>3</th>\n",
       "      <td>Kamppi</td>\n",
       "      <td>Kerrostalo</td>\n",
       "      <td>1h, kk, alkovi,...</td>\n",
       "      <td>32.0</td>\n",
       "      <td>294000</td>\n",
       "      <td>9188</td>\n",
       "    </tr>\n",
       "    <tr>\n",
       "      <th>4</th>\n",
       "      <td>Lauttasaari</td>\n",
       "      <td>Kerrostalo</td>\n",
       "      <td>1h, avok. kph, ...</td>\n",
       "      <td>33.0</td>\n",
       "      <td>215000</td>\n",
       "      <td>6515</td>\n",
       "    </tr>\n",
       "  </tbody>\n",
       "</table>\n",
       "</div>"
      ],
      "text/plain": [
       "          area        type                room   sqm   price  price/sqm\n",
       "0       Kallio  Kerrostalo              1h, kk  28.5  225000       7895\n",
       "1        Malmi  Kerrostalo  1h, kk, ikkunal...  33.0  106000       3212\n",
       "2        Harju  Kerrostalo              1h+kph  24.0  195000       8125\n",
       "3       Kamppi  Kerrostalo  1h, kk, alkovi,...  32.0  294000       9188\n",
       "4  Lauttasaari  Kerrostalo  1h, avok. kph, ...  33.0  215000       6515"
      ]
     },
     "execution_count": 43,
     "metadata": {},
     "output_type": "execute_result"
    }
   ],
   "source": [
    "df.head()"
   ]
  },
  {
   "cell_type": "markdown",
   "metadata": {},
   "source": [
    "we try to get the number of rooms from the description. in most cases it is a number, followed by (whitespace)(h)(H)"
   ]
  },
  {
   "cell_type": "code",
   "execution_count": 44,
   "metadata": {},
   "outputs": [],
   "source": [
    "df[\"rooms\"]=df.room.str.extract(r\"(\\d+)\\s*.*[h|H]\")"
   ]
  },
  {
   "cell_type": "code",
   "execution_count": 45,
   "metadata": {},
   "outputs": [
    {
     "data": {
      "text/plain": [
       "array(['1', <NA>, '2', '3'], dtype=object)"
      ]
     },
     "execution_count": 45,
     "metadata": {},
     "output_type": "execute_result"
    }
   ],
   "source": [
    "df.rooms.unique()"
   ]
  },
  {
   "cell_type": "markdown",
   "metadata": {},
   "source": [
    "let's look at the rows which were not caught with this:"
   ]
  },
  {
   "cell_type": "code",
   "execution_count": 46,
   "metadata": {},
   "outputs": [
    {
     "data": {
      "text/html": [
       "<div>\n",
       "<style scoped>\n",
       "    .dataframe tbody tr th:only-of-type {\n",
       "        vertical-align: middle;\n",
       "    }\n",
       "\n",
       "    .dataframe tbody tr th {\n",
       "        vertical-align: top;\n",
       "    }\n",
       "\n",
       "    .dataframe thead th {\n",
       "        text-align: right;\n",
       "    }\n",
       "</style>\n",
       "<table border=\"1\" class=\"dataframe\">\n",
       "  <thead>\n",
       "    <tr style=\"text-align: right;\">\n",
       "      <th></th>\n",
       "      <th>area</th>\n",
       "      <th>type</th>\n",
       "      <th>room</th>\n",
       "      <th>sqm</th>\n",
       "      <th>price</th>\n",
       "      <th>price/sqm</th>\n",
       "      <th>rooms</th>\n",
       "    </tr>\n",
       "  </thead>\n",
       "  <tbody>\n",
       "    <tr>\n",
       "      <th>102</th>\n",
       "      <td>Kamppi</td>\n",
       "      <td>Kerrostalo</td>\n",
       "      <td>1+kk</td>\n",
       "      <td>23.0</td>\n",
       "      <td>256000</td>\n",
       "      <td>11130</td>\n",
       "      <td>&lt;NA&gt;</td>\n",
       "    </tr>\n",
       "    <tr>\n",
       "      <th>123</th>\n",
       "      <td>Kontula</td>\n",
       "      <td>Kerrostalo</td>\n",
       "      <td>1k+kt+las.par.</td>\n",
       "      <td>31.5</td>\n",
       "      <td>173500</td>\n",
       "      <td>5508</td>\n",
       "      <td>&lt;NA&gt;</td>\n",
       "    </tr>\n",
       "    <tr>\n",
       "      <th>129</th>\n",
       "      <td>Töölö</td>\n",
       "      <td>Kerrostalo</td>\n",
       "      <td>Ylimmän ke...</td>\n",
       "      <td>20.0</td>\n",
       "      <td>183000</td>\n",
       "      <td>9150</td>\n",
       "      <td>&lt;NA&gt;</td>\n",
       "    </tr>\n",
       "    <tr>\n",
       "      <th>147</th>\n",
       "      <td>Punavuori</td>\n",
       "      <td>Kerrostalo</td>\n",
       "      <td>Ih+tk</td>\n",
       "      <td>29.0</td>\n",
       "      <td>325000</td>\n",
       "      <td>11207</td>\n",
       "      <td>&lt;NA&gt;</td>\n",
       "    </tr>\n",
       "    <tr>\n",
       "      <th>272</th>\n",
       "      <td>Taka-töölö</td>\n",
       "      <td>Kerrostalo</td>\n",
       "      <td>huone, avok, kph</td>\n",
       "      <td>30.0</td>\n",
       "      <td>221000</td>\n",
       "      <td>7367</td>\n",
       "      <td>&lt;NA&gt;</td>\n",
       "    </tr>\n",
       "    <tr>\n",
       "      <th>276</th>\n",
       "      <td>Kuninkaantammi</td>\n",
       "      <td>Kerrostalo</td>\n",
       "      <td>&lt;NA&gt;</td>\n",
       "      <td>12.0</td>\n",
       "      <td>15000</td>\n",
       "      <td>1250</td>\n",
       "      <td>&lt;NA&gt;</td>\n",
       "    </tr>\n",
       "    <tr>\n",
       "      <th>329</th>\n",
       "      <td>Kalasatama</td>\n",
       "      <td>Kerrostalo</td>\n",
       "      <td>&lt;NA&gt;</td>\n",
       "      <td>28.0</td>\n",
       "      <td>265000</td>\n",
       "      <td>9464</td>\n",
       "      <td>&lt;NA&gt;</td>\n",
       "    </tr>\n",
       "    <tr>\n",
       "      <th>458</th>\n",
       "      <td>Kuninkaantammi</td>\n",
       "      <td>Kerrostalo</td>\n",
       "      <td>&lt;NA&gt;</td>\n",
       "      <td>12.0</td>\n",
       "      <td>13000</td>\n",
       "      <td>1083</td>\n",
       "      <td>&lt;NA&gt;</td>\n",
       "    </tr>\n",
       "    <tr>\n",
       "      <th>512</th>\n",
       "      <td>Koskela</td>\n",
       "      <td>Kerrostalo</td>\n",
       "      <td>autopaikka</td>\n",
       "      <td>12.5</td>\n",
       "      <td>25000</td>\n",
       "      <td>2000</td>\n",
       "      <td>&lt;NA&gt;</td>\n",
       "    </tr>\n",
       "    <tr>\n",
       "      <th>519</th>\n",
       "      <td>Harju</td>\n",
       "      <td>Kerrostalo</td>\n",
       "      <td>Yksiö + kk...</td>\n",
       "      <td>37.0</td>\n",
       "      <td>265000</td>\n",
       "      <td>7162</td>\n",
       "      <td>&lt;NA&gt;</td>\n",
       "    </tr>\n",
       "    <tr>\n",
       "      <th>530</th>\n",
       "      <td>Etelä-haaga</td>\n",
       "      <td>Kerrostalo</td>\n",
       "      <td>Ullakkokerros: ...</td>\n",
       "      <td>43.5</td>\n",
       "      <td>280000</td>\n",
       "      <td>6437</td>\n",
       "      <td>&lt;NA&gt;</td>\n",
       "    </tr>\n",
       "    <tr>\n",
       "      <th>602</th>\n",
       "      <td>Taka-töölö</td>\n",
       "      <td>Kerrostalo</td>\n",
       "      <td>h, kk ja kph</td>\n",
       "      <td>26.5</td>\n",
       "      <td>208000</td>\n",
       "      <td>7849</td>\n",
       "      <td>&lt;NA&gt;</td>\n",
       "    </tr>\n",
       "    <tr>\n",
       "      <th>644</th>\n",
       "      <td>Helsinki</td>\n",
       "      <td>Kerrostalo</td>\n",
       "      <td>1k+k</td>\n",
       "      <td>31.5</td>\n",
       "      <td>323000</td>\n",
       "      <td>10254</td>\n",
       "      <td>&lt;NA&gt;</td>\n",
       "    </tr>\n",
       "    <tr>\n",
       "      <th>651</th>\n",
       "      <td>Puotinharju</td>\n",
       "      <td>Kerrostalo</td>\n",
       "      <td>h, kk, kph</td>\n",
       "      <td>29.0</td>\n",
       "      <td>123000</td>\n",
       "      <td>4241</td>\n",
       "      <td>&lt;NA&gt;</td>\n",
       "    </tr>\n",
       "    <tr>\n",
       "      <th>653</th>\n",
       "      <td>Punavuori</td>\n",
       "      <td>Kerrostalo</td>\n",
       "      <td>oh, avokeitti&amp;#...</td>\n",
       "      <td>51.3</td>\n",
       "      <td>352000</td>\n",
       "      <td>6862</td>\n",
       "      <td>&lt;NA&gt;</td>\n",
       "    </tr>\n",
       "    <tr>\n",
       "      <th>674</th>\n",
       "      <td>Vallila</td>\n",
       "      <td>Kerrostalo</td>\n",
       "      <td>Huone, keitti&amp;#...</td>\n",
       "      <td>32.0</td>\n",
       "      <td>220000</td>\n",
       "      <td>6875</td>\n",
       "      <td>&lt;NA&gt;</td>\n",
       "    </tr>\n",
       "    <tr>\n",
       "      <th>844</th>\n",
       "      <td>Herttoniemenranta</td>\n",
       "      <td>Kerrostalo</td>\n",
       "      <td>Oh, avok, mh, s...</td>\n",
       "      <td>46.0</td>\n",
       "      <td>290000</td>\n",
       "      <td>6304</td>\n",
       "      <td>&lt;NA&gt;</td>\n",
       "    </tr>\n",
       "    <tr>\n",
       "      <th>965</th>\n",
       "      <td>Ruskeasuo</td>\n",
       "      <td>Kerrostalo</td>\n",
       "      <td>1r, stugkö...</td>\n",
       "      <td>40.0</td>\n",
       "      <td>278000</td>\n",
       "      <td>6950</td>\n",
       "      <td>&lt;NA&gt;</td>\n",
       "    </tr>\n",
       "    <tr>\n",
       "      <th>988</th>\n",
       "      <td>Kallio</td>\n",
       "      <td>Kerrostalo</td>\n",
       "      <td>43,5</td>\n",
       "      <td>43.5</td>\n",
       "      <td>257500</td>\n",
       "      <td>5920</td>\n",
       "      <td>&lt;NA&gt;</td>\n",
       "    </tr>\n",
       "    <tr>\n",
       "      <th>1267</th>\n",
       "      <td>Ruskeasuo</td>\n",
       "      <td>Kerrostalo</td>\n",
       "      <td>2r+öppet k...</td>\n",
       "      <td>44.0</td>\n",
       "      <td>310000</td>\n",
       "      <td>7045</td>\n",
       "      <td>&lt;NA&gt;</td>\n",
       "    </tr>\n",
       "    <tr>\n",
       "      <th>1321</th>\n",
       "      <td>Ruskeasuo</td>\n",
       "      <td>Kerrostalo</td>\n",
       "      <td>2r+öppet k...</td>\n",
       "      <td>49.5</td>\n",
       "      <td>420000</td>\n",
       "      <td>8485</td>\n",
       "      <td>&lt;NA&gt;</td>\n",
       "    </tr>\n",
       "    <tr>\n",
       "      <th>1988</th>\n",
       "      <td>Katajanokka</td>\n",
       "      <td>Kerrostalo</td>\n",
       "      <td>2+k+s</td>\n",
       "      <td>54.0</td>\n",
       "      <td>450000</td>\n",
       "      <td>8333</td>\n",
       "      <td>&lt;NA&gt;</td>\n",
       "    </tr>\n",
       "    <tr>\n",
       "      <th>2001</th>\n",
       "      <td>Mellunkylä</td>\n",
       "      <td>Kerrostalo</td>\n",
       "      <td>avokeittiö...</td>\n",
       "      <td>41.5</td>\n",
       "      <td>197500</td>\n",
       "      <td>4759</td>\n",
       "      <td>&lt;NA&gt;</td>\n",
       "    </tr>\n",
       "    <tr>\n",
       "      <th>2095</th>\n",
       "      <td>Vuosaari</td>\n",
       "      <td>Kerrostalo</td>\n",
       "      <td>Asuinhuoneisto</td>\n",
       "      <td>91.0</td>\n",
       "      <td>345000</td>\n",
       "      <td>3791</td>\n",
       "      <td>&lt;NA&gt;</td>\n",
       "    </tr>\n",
       "  </tbody>\n",
       "</table>\n",
       "</div>"
      ],
      "text/plain": [
       "                   area        type                room   sqm   price  \\\n",
       "102              Kamppi  Kerrostalo                1+kk  23.0  256000   \n",
       "123             Kontula  Kerrostalo      1k+kt+las.par.  31.5  173500   \n",
       "129               Töölö  Kerrostalo       Ylimmän ke...  20.0  183000   \n",
       "147           Punavuori  Kerrostalo               Ih+tk  29.0  325000   \n",
       "272          Taka-töölö  Kerrostalo    huone, avok, kph  30.0  221000   \n",
       "276      Kuninkaantammi  Kerrostalo                <NA>  12.0   15000   \n",
       "329          Kalasatama  Kerrostalo                <NA>  28.0  265000   \n",
       "458      Kuninkaantammi  Kerrostalo                <NA>  12.0   13000   \n",
       "512             Koskela  Kerrostalo          autopaikka  12.5   25000   \n",
       "519               Harju  Kerrostalo       Yksiö + kk...  37.0  265000   \n",
       "530         Etelä-haaga  Kerrostalo  Ullakkokerros: ...  43.5  280000   \n",
       "602          Taka-töölö  Kerrostalo        h, kk ja kph  26.5  208000   \n",
       "644            Helsinki  Kerrostalo                1k+k  31.5  323000   \n",
       "651         Puotinharju  Kerrostalo          h, kk, kph  29.0  123000   \n",
       "653           Punavuori  Kerrostalo  oh, avokeitti&#...  51.3  352000   \n",
       "674             Vallila  Kerrostalo  Huone, keitti&#...  32.0  220000   \n",
       "844   Herttoniemenranta  Kerrostalo  Oh, avok, mh, s...  46.0  290000   \n",
       "965           Ruskeasuo  Kerrostalo       1r, stugkö...  40.0  278000   \n",
       "988              Kallio  Kerrostalo                43,5  43.5  257500   \n",
       "1267          Ruskeasuo  Kerrostalo       2r+öppet k...  44.0  310000   \n",
       "1321          Ruskeasuo  Kerrostalo       2r+öppet k...  49.5  420000   \n",
       "1988        Katajanokka  Kerrostalo               2+k+s  54.0  450000   \n",
       "2001         Mellunkylä  Kerrostalo       avokeittiö...  41.5  197500   \n",
       "2095           Vuosaari  Kerrostalo      Asuinhuoneisto  91.0  345000   \n",
       "\n",
       "      price/sqm rooms  \n",
       "102       11130  <NA>  \n",
       "123        5508  <NA>  \n",
       "129        9150  <NA>  \n",
       "147       11207  <NA>  \n",
       "272        7367  <NA>  \n",
       "276        1250  <NA>  \n",
       "329        9464  <NA>  \n",
       "458        1083  <NA>  \n",
       "512        2000  <NA>  \n",
       "519        7162  <NA>  \n",
       "530        6437  <NA>  \n",
       "602        7849  <NA>  \n",
       "644       10254  <NA>  \n",
       "651        4241  <NA>  \n",
       "653        6862  <NA>  \n",
       "674        6875  <NA>  \n",
       "844        6304  <NA>  \n",
       "965        6950  <NA>  \n",
       "988        5920  <NA>  \n",
       "1267       7045  <NA>  \n",
       "1321       8485  <NA>  \n",
       "1988       8333  <NA>  \n",
       "2001       4759  <NA>  \n",
       "2095       3791  <NA>  "
      ]
     },
     "execution_count": 46,
     "metadata": {},
     "output_type": "execute_result"
    }
   ],
   "source": [
    "mask=df.rooms.isnull()\n",
    "df[mask]"
   ]
  },
  {
   "cell_type": "markdown",
   "metadata": {},
   "source": [
    "i drop them for now, because they are few and diverse"
   ]
  },
  {
   "cell_type": "code",
   "execution_count": 47,
   "metadata": {},
   "outputs": [],
   "source": [
    "\n",
    "df=df.dropna(subset=\"rooms\",axis=0)\n",
    "df.rooms=df.rooms.astype(int)"
   ]
  },
  {
   "cell_type": "code",
   "execution_count": 48,
   "metadata": {},
   "outputs": [
    {
     "data": {
      "text/html": [
       "<div>\n",
       "<style scoped>\n",
       "    .dataframe tbody tr th:only-of-type {\n",
       "        vertical-align: middle;\n",
       "    }\n",
       "\n",
       "    .dataframe tbody tr th {\n",
       "        vertical-align: top;\n",
       "    }\n",
       "\n",
       "    .dataframe thead th {\n",
       "        text-align: right;\n",
       "    }\n",
       "</style>\n",
       "<table border=\"1\" class=\"dataframe\">\n",
       "  <thead>\n",
       "    <tr style=\"text-align: right;\">\n",
       "      <th></th>\n",
       "      <th>sqm</th>\n",
       "      <th>price</th>\n",
       "      <th>price/sqm</th>\n",
       "      <th>rooms</th>\n",
       "    </tr>\n",
       "  </thead>\n",
       "  <tbody>\n",
       "    <tr>\n",
       "      <th>count</th>\n",
       "      <td>2085.000000</td>\n",
       "      <td>2.085000e+03</td>\n",
       "      <td>2085.000000</td>\n",
       "      <td>2085.000000</td>\n",
       "    </tr>\n",
       "    <tr>\n",
       "      <th>mean</th>\n",
       "      <td>44.866763</td>\n",
       "      <td>2.726754e+05</td>\n",
       "      <td>6315.757314</td>\n",
       "      <td>1.694484</td>\n",
       "    </tr>\n",
       "    <tr>\n",
       "      <th>std</th>\n",
       "      <td>13.492427</td>\n",
       "      <td>1.171468e+05</td>\n",
       "      <td>2217.967056</td>\n",
       "      <td>0.513908</td>\n",
       "    </tr>\n",
       "    <tr>\n",
       "      <th>min</th>\n",
       "      <td>13.500000</td>\n",
       "      <td>8.600000e+04</td>\n",
       "      <td>1811.000000</td>\n",
       "      <td>1.000000</td>\n",
       "    </tr>\n",
       "    <tr>\n",
       "      <th>25%</th>\n",
       "      <td>34.500000</td>\n",
       "      <td>1.900000e+05</td>\n",
       "      <td>4643.000000</td>\n",
       "      <td>1.000000</td>\n",
       "    </tr>\n",
       "    <tr>\n",
       "      <th>50%</th>\n",
       "      <td>46.000000</td>\n",
       "      <td>2.480000e+05</td>\n",
       "      <td>6364.000000</td>\n",
       "      <td>2.000000</td>\n",
       "    </tr>\n",
       "    <tr>\n",
       "      <th>75%</th>\n",
       "      <td>54.000000</td>\n",
       "      <td>3.260000e+05</td>\n",
       "      <td>7846.000000</td>\n",
       "      <td>2.000000</td>\n",
       "    </tr>\n",
       "    <tr>\n",
       "      <th>max</th>\n",
       "      <td>110.500000</td>\n",
       "      <td>1.100000e+06</td>\n",
       "      <td>14412.000000</td>\n",
       "      <td>3.000000</td>\n",
       "    </tr>\n",
       "  </tbody>\n",
       "</table>\n",
       "</div>"
      ],
      "text/plain": [
       "               sqm         price     price/sqm        rooms\n",
       "count  2085.000000  2.085000e+03   2085.000000  2085.000000\n",
       "mean     44.866763  2.726754e+05   6315.757314     1.694484\n",
       "std      13.492427  1.171468e+05   2217.967056     0.513908\n",
       "min      13.500000  8.600000e+04   1811.000000     1.000000\n",
       "25%      34.500000  1.900000e+05   4643.000000     1.000000\n",
       "50%      46.000000  2.480000e+05   6364.000000     2.000000\n",
       "75%      54.000000  3.260000e+05   7846.000000     2.000000\n",
       "max     110.500000  1.100000e+06  14412.000000     3.000000"
      ]
     },
     "execution_count": 48,
     "metadata": {},
     "output_type": "execute_result"
    }
   ],
   "source": [
    "df.describe()"
   ]
  },
  {
   "cell_type": "code",
   "execution_count": 56,
   "metadata": {},
   "outputs": [
    {
     "data": {
      "text/plain": [
       "<seaborn.axisgrid.FacetGrid at 0x1507f573820>"
      ]
     },
     "execution_count": 56,
     "metadata": {},
     "output_type": "execute_result"
    },
    {
     "data": {
      "image/png": "[encoded data removed]",
      "text/plain": [
       "<Figure size 402.375x360 with 1 Axes>"
      ]
     },
     "metadata": {
      "needs_background": "light"
     },
     "output_type": "display_data"
    }
   ],
   "source": [
    "\n",
    "sns.relplot(data=df,x=\"price\", y=\"sqm\", hue=\"rooms\")"
   ]
  },
  {
   "cell_type": "markdown",
   "metadata": {},
   "source": [
    "studio apartments have a tendency to higher sqm prices:"
   ]
  },
  {
   "cell_type": "code",
   "execution_count": 57,
   "metadata": {},
   "outputs": [
    {
     "name": "stderr",
     "output_type": "stream",
     "text": [
      "C:\\Users\\patri\\AppData\\Local\\Packages\\PythonSoftwareFoundation.Python.3.10_qbz5n2kfra8p0\\LocalCache\\local-packages\\Python310\\site-packages\\seaborn\\categorical.py:1296: UserWarning: 42.3% of the points cannot be placed; you may want to decrease the size of the markers or use stripplot.\n",
      "  warnings.warn(msg, UserWarning)\n",
      "C:\\Users\\patri\\AppData\\Local\\Packages\\PythonSoftwareFoundation.Python.3.10_qbz5n2kfra8p0\\LocalCache\\local-packages\\Python310\\site-packages\\seaborn\\categorical.py:1296: UserWarning: 63.5% of the points cannot be placed; you may want to decrease the size of the markers or use stripplot.\n",
      "  warnings.warn(msg, UserWarning)\n"
     ]
    },
    {
     "data": {
      "text/plain": [
       "<AxesSubplot:xlabel='rooms', ylabel='price/sqm'>"
      ]
     },
     "execution_count": 57,
     "metadata": {},
     "output_type": "execute_result"
    },
    {
     "data": {
      "image/png": "[encoded data removed]",
      "text/plain": [
       "<Figure size 432x288 with 1 Axes>"
      ]
     },
     "metadata": {
      "needs_background": "light"
     },
     "output_type": "display_data"
    }
   ],
   "source": [
    "sns.swarmplot(data=df,y=\"price/sqm\",x=\"rooms\")"
   ]
  },
  {
   "cell_type": "markdown",
   "metadata": {},
   "source": [
    "most expensive by sqm price:"
   ]
  },
  {
   "cell_type": "code",
   "execution_count": 51,
   "metadata": {},
   "outputs": [],
   "source": [
    "mostex=df[\"price/sqm\"].idxmax()"
   ]
  },
  {
   "cell_type": "code",
   "execution_count": 52,
   "metadata": {},
   "outputs": [
    {
     "data": {
      "text/plain": [
       "area                 Ullanlinna\n",
       "type                 Kerrostalo\n",
       "room         1h, keittonurkk...\n",
       "sqm                        17.0\n",
       "price                    245000\n",
       "price/sqm                 14412\n",
       "rooms                         1\n",
       "Name: 17, dtype: object"
      ]
     },
     "execution_count": 52,
     "metadata": {},
     "output_type": "execute_result"
    }
   ],
   "source": [
    "df.loc[mostex]"
   ]
  },
  {
   "cell_type": "markdown",
   "metadata": {},
   "source": [
    "cheapest, by sqm price:"
   ]
  },
  {
   "cell_type": "code",
   "execution_count": 53,
   "metadata": {},
   "outputs": [],
   "source": [
    "cheapest=df[\"price/sqm\"].idxmin()"
   ]
  },
  {
   "cell_type": "code",
   "execution_count": 54,
   "metadata": {},
   "outputs": [
    {
     "data": {
      "text/plain": [
       "area                  Siltamäki\n",
       "type                 Kerrostalo\n",
       "room         2h, k, kph,wc,v...\n",
       "sqm                        63.5\n",
       "price                    115000\n",
       "price/sqm                  1811\n",
       "rooms                         2\n",
       "Name: 1054, dtype: object"
      ]
     },
     "execution_count": 54,
     "metadata": {},
     "output_type": "execute_result"
    }
   ],
   "source": [
    "df.loc[cheapest]"
   ]
  },
  {
   "cell_type": "markdown",
   "metadata": {},
   "source": [
    "save the cleaned data to:"
   ]
  },
  {
   "cell_type": "code",
   "execution_count": 55,
   "metadata": {},
   "outputs": [],
   "source": [
    "df.to_csv(\"clean_sold.csv\", index=False)"
   ]
  }
 ],
 "metadata": {
  "kernelspec": {
   "display_name": "Python 3.10.5 64-bit (windows store)",
   "language": "python",
   "name": "python3"
  },
  "language_info": {
   "codemirror_mode": {
    "name": "ipython",
    "version": 3
   },
   "file_extension": ".py",
   "mimetype": "text/x-python",
   "name": "python",
   "nbconvert_exporter": "python",
   "pygments_lexer": "ipython3",
   "version": "3.10.5"
  },
  "orig_nbformat": 4,
  "vscode": {
   "interpreter": {
    "hash": "582bac1d02c6c8cbd27dd91c74044d14e2b63f14cda36d56af554a884b3aa477"
   }
  }
 },
 "nbformat": 4,
 "nbformat_minor": 2
}
