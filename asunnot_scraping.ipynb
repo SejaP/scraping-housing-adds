{
 "cells": [
  {
   "cell_type": "code",
   "execution_count": 33,
   "metadata": {},
   "outputs": [],
   "source": [
    "from bs4 import BeautifulSoup\n",
    "from selenium import webdriver\n",
    "import pandas as pd\n",
    "from time import sleep"
   ]
  },
  {
   "cell_type": "code",
   "execution_count": 34,
   "metadata": {},
   "outputs": [],
   "source": [
    "posts=[]"
   ]
  },
  {
   "cell_type": "code",
   "execution_count": 35,
   "metadata": {},
   "outputs": [
    {
     "name": "stderr",
     "output_type": "stream",
     "text": [
      "C:\\Users\\patri\\AppData\\Local\\Temp\\ipykernel_4396\\318897348.py:2: DeprecationWarning: executable_path has been deprecated, please pass in a Service object\n",
      "  driver = webdriver.Chrome(PATH)\n"
     ]
    }
   ],
   "source": [
    "PATH = r\"C:/Program Files/Google/Chrome\\Application/chromedriver.exe\"\n",
    "chrome_options = webdriver.ChromeOptions()\n",
    "chrome_options.add_argument(\"--incognito\")\n",
    "chrome_options.add_argument('headless')\n",
    "driver = webdriver.Chrome(PATH,chrome_options=chrome_options)\n"
   ]
  },
  {
   "cell_type": "markdown",
   "metadata": {},
   "source": [
    "From asunnot.oikotie.fi scrape current apartments/houses on sale in Helsinki. From each posting we collect price, size, type, room number description and area. The function takes an integer as input to define how many pages should be scraped."
   ]
  },
  {
   "cell_type": "code",
   "execution_count": 36,
   "metadata": {},
   "outputs": [],
   "source": [
    "def get_posts(n:int):\n",
    "    driver.get(f\"https://asunnot.oikotie.fi/myytavat-asunnot?pagination={n}&locations=%5B%5B64,6,%22Helsinki%22%5D%5D&cardType=100\")\n",
    "    #sleep(2) \n",
    "    soup = BeautifulSoup(driver.page_source, 'html.parser')\n",
    "    \n",
    "    cards = soup.find_all(lambda tag: tag.name == 'div' and \n",
    "                                   tag.get('class') == ['cards__card']) \n",
    "    \n",
    "    for card in cards:\n",
    "        post= {\n",
    "        \"price\":card.find(\"span\",class_=\"ot-card__text ot-card__price ng-binding\").text,\n",
    "        \"rooms\":card.find(\"div\",class_=\"ot-card__text ng-binding\").text,\n",
    "        \n",
    "        \"size\":card.find(\"span\", class_=\"ot-card__text ot-card__size ng-binding ng-scope\").text,\n",
    "        \n",
    "        \"type\":card.find(\"span\", class_=\"ot-card__text ng-scope\").text,\n",
    "        \n",
    "        \"area\":card.find(\"span\", class_=\"ot-card__text ng-binding ng-scope\").text\n",
    "        \n",
    "        }\n",
    "        \n",
    "        posts.append(post)\n",
    "        \n",
    "    return\n",
    "        "
   ]
  },
  {
   "cell_type": "code",
   "execution_count": 37,
   "metadata": {},
   "outputs": [
    {
     "name": "stdout",
     "output_type": "stream",
     "text": [
      "0\n",
      "120\n"
     ]
    }
   ],
   "source": [
    "#print(len(posts))\n",
    "for x in range(1,6):\n",
    "    get_posts(x)\n",
    "\n",
    "#print(len(posts))\n"
   ]
  },
  {
   "cell_type": "markdown",
   "metadata": {},
   "source": [
    "The collected data is saved to the file \"housing.csv\""
   ]
  },
  {
   "cell_type": "code",
   "execution_count": 38,
   "metadata": {},
   "outputs": [],
   "source": [
    "df=pd.DataFrame(posts)\n",
    "df.to_csv(\"housing.csv\",index=False)"
   ]
  }
 ],
 "metadata": {
  "kernelspec": {
   "display_name": "Python 3.10.5 64-bit (windows store)",
   "language": "python",
   "name": "python3"
  },
  "language_info": {
   "codemirror_mode": {
    "name": "ipython",
    "version": 3
   },
   "file_extension": ".py",
   "mimetype": "text/x-python",
   "name": "python",
   "nbconvert_exporter": "python",
   "pygments_lexer": "ipython3",
   "version": "3.10.5"
  },
  "orig_nbformat": 4,
  "vscode": {
   "interpreter": {
    "hash": "582bac1d02c6c8cbd27dd91c74044d14e2b63f14cda36d56af554a884b3aa477"
   }
  }
 },
 "nbformat": 4,
 "nbformat_minor": 2
}
