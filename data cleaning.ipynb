{
 "cells": [
  {
   "cell_type": "code",
   "execution_count": 27,
   "metadata": {},
   "outputs": [],
   "source": [
    "import pandas as pd\n",
    "from unidecode import unidecode\n",
    "import seaborn as sns\n",
    "import matplotlib.pyplot as plt\n",
    "%matplotlib inline"
   ]
  },
  {
   "cell_type": "markdown",
   "metadata": {},
   "source": [
    "The data file from asunnot.oikotie.fi is opened and cleaned for further usage in this script."
   ]
  },
  {
   "cell_type": "code",
   "execution_count": 28,
   "metadata": {},
   "outputs": [
    {
     "name": "stdout",
     "output_type": "stream",
     "text": [
      "<class 'pandas.core.frame.DataFrame'>\n",
      "RangeIndex: 120 entries, 0 to 119\n",
      "Data columns (total 5 columns):\n",
      " #   Column  Non-Null Count  Dtype \n",
      "---  ------  --------------  ----- \n",
      " 0   price   119 non-null    object\n",
      " 1   rooms   120 non-null    object\n",
      " 2   size    120 non-null    object\n",
      " 3   type    120 non-null    object\n",
      " 4   area    120 non-null    object\n",
      "dtypes: object(5)\n",
      "memory usage: 4.8+ KB\n"
     ]
    }
   ],
   "source": [
    "d=pd.read_csv(\"housing.csv\")\n",
    "d.info()\n"
   ]
  },
  {
   "cell_type": "code",
   "execution_count": 29,
   "metadata": {},
   "outputs": [
    {
     "name": "stdout",
     "output_type": "stream",
     "text": [
      "<class 'pandas.core.frame.DataFrame'>\n",
      "RangeIndex: 120 entries, 0 to 119\n",
      "Data columns (total 5 columns):\n",
      " #   Column  Non-Null Count  Dtype \n",
      "---  ------  --------------  ----- \n",
      " 0   price   119 non-null    string\n",
      " 1   rooms   120 non-null    string\n",
      " 2   size    120 non-null    string\n",
      " 3   type    120 non-null    string\n",
      " 4   area    120 non-null    string\n",
      "dtypes: string(5)\n",
      "memory usage: 4.8 KB\n"
     ]
    }
   ],
   "source": [
    "d=d.convert_dtypes()\n",
    "\n",
    "d.info()"
   ]
  },
  {
   "cell_type": "code",
   "execution_count": 30,
   "metadata": {},
   "outputs": [],
   "source": [
    "d['size'] = d['size'].apply(lambda x: (unidecode(x)))"
   ]
  },
  {
   "cell_type": "code",
   "execution_count": 31,
   "metadata": {},
   "outputs": [],
   "source": [
    "sqm=d[\"size\"].astype(str).str.split(expand=True)\n",
    "\n",
    "d['size'] =sqm[0].str.replace(',','.').astype(float)"
   ]
  },
  {
   "cell_type": "code",
   "execution_count": 32,
   "metadata": {},
   "outputs": [],
   "source": [
    "d.price=d.price.fillna(\"0\")\n"
   ]
  },
  {
   "cell_type": "code",
   "execution_count": 33,
   "metadata": {},
   "outputs": [],
   "source": [
    "d['price'] = d['price'].apply(lambda x: (unidecode(x).strip(\"€\").replace(' ','').replace('EUR',''))).astype(float)\n"
   ]
  },
  {
   "cell_type": "code",
   "execution_count": 34,
   "metadata": {},
   "outputs": [
    {
     "data": {
      "text/html": [
       "<div>\n",
       "<style scoped>\n",
       "    .dataframe tbody tr th:only-of-type {\n",
       "        vertical-align: middle;\n",
       "    }\n",
       "\n",
       "    .dataframe tbody tr th {\n",
       "        vertical-align: top;\n",
       "    }\n",
       "\n",
       "    .dataframe thead th {\n",
       "        text-align: right;\n",
       "    }\n",
       "</style>\n",
       "<table border=\"1\" class=\"dataframe\">\n",
       "  <thead>\n",
       "    <tr style=\"text-align: right;\">\n",
       "      <th></th>\n",
       "      <th>price</th>\n",
       "      <th>size</th>\n",
       "    </tr>\n",
       "  </thead>\n",
       "  <tbody>\n",
       "    <tr>\n",
       "      <th>count</th>\n",
       "      <td>1.200000e+02</td>\n",
       "      <td>120.000000</td>\n",
       "    </tr>\n",
       "    <tr>\n",
       "      <th>mean</th>\n",
       "      <td>3.666915e+05</td>\n",
       "      <td>62.139167</td>\n",
       "    </tr>\n",
       "    <tr>\n",
       "      <th>std</th>\n",
       "      <td>2.042908e+05</td>\n",
       "      <td>27.622033</td>\n",
       "    </tr>\n",
       "    <tr>\n",
       "      <th>min</th>\n",
       "      <td>0.000000e+00</td>\n",
       "      <td>17.100000</td>\n",
       "    </tr>\n",
       "    <tr>\n",
       "      <th>25%</th>\n",
       "      <td>2.373810e+05</td>\n",
       "      <td>42.125000</td>\n",
       "    </tr>\n",
       "    <tr>\n",
       "      <th>50%</th>\n",
       "      <td>3.256165e+05</td>\n",
       "      <td>58.250000</td>\n",
       "    </tr>\n",
       "    <tr>\n",
       "      <th>75%</th>\n",
       "      <td>4.412500e+05</td>\n",
       "      <td>77.625000</td>\n",
       "    </tr>\n",
       "    <tr>\n",
       "      <th>max</th>\n",
       "      <td>1.630000e+06</td>\n",
       "      <td>181.500000</td>\n",
       "    </tr>\n",
       "  </tbody>\n",
       "</table>\n",
       "</div>"
      ],
      "text/plain": [
       "              price        size\n",
       "count  1.200000e+02  120.000000\n",
       "mean   3.666915e+05   62.139167\n",
       "std    2.042908e+05   27.622033\n",
       "min    0.000000e+00   17.100000\n",
       "25%    2.373810e+05   42.125000\n",
       "50%    3.256165e+05   58.250000\n",
       "75%    4.412500e+05   77.625000\n",
       "max    1.630000e+06  181.500000"
      ]
     },
     "execution_count": 34,
     "metadata": {},
     "output_type": "execute_result"
    }
   ],
   "source": [
    "d.describe()"
   ]
  },
  {
   "cell_type": "code",
   "execution_count": 35,
   "metadata": {},
   "outputs": [
    {
     "data": {
      "text/html": [
       "<div>\n",
       "<style scoped>\n",
       "    .dataframe tbody tr th:only-of-type {\n",
       "        vertical-align: middle;\n",
       "    }\n",
       "\n",
       "    .dataframe tbody tr th {\n",
       "        vertical-align: top;\n",
       "    }\n",
       "\n",
       "    .dataframe thead th {\n",
       "        text-align: right;\n",
       "    }\n",
       "</style>\n",
       "<table border=\"1\" class=\"dataframe\">\n",
       "  <thead>\n",
       "    <tr style=\"text-align: right;\">\n",
       "      <th></th>\n",
       "      <th>price</th>\n",
       "      <th>rooms</th>\n",
       "      <th>size</th>\n",
       "      <th>type</th>\n",
       "      <th>area</th>\n",
       "    </tr>\n",
       "  </thead>\n",
       "  <tbody>\n",
       "    <tr>\n",
       "      <th>83</th>\n",
       "      <td>0.0</td>\n",
       "      <td>1h + k</td>\n",
       "      <td>35.0</td>\n",
       "      <td>Kerrostalo</td>\n",
       "      <td>Kaarela</td>\n",
       "    </tr>\n",
       "    <tr>\n",
       "      <th>74</th>\n",
       "      <td>12278.0</td>\n",
       "      <td>3H+K</td>\n",
       "      <td>73.5</td>\n",
       "      <td>Kerrostalo</td>\n",
       "      <td>Vuosaari</td>\n",
       "    </tr>\n",
       "    <tr>\n",
       "      <th>80</th>\n",
       "      <td>30241.0</td>\n",
       "      <td>3H+K+S</td>\n",
       "      <td>71.0</td>\n",
       "      <td>Paritalo</td>\n",
       "      <td>Tapaninkylä</td>\n",
       "    </tr>\n",
       "    <tr>\n",
       "      <th>29</th>\n",
       "      <td>135600.0</td>\n",
       "      <td>1h+kk+kph-wc</td>\n",
       "      <td>29.5</td>\n",
       "      <td>Kerrostalo</td>\n",
       "      <td>Yliskylä</td>\n",
       "    </tr>\n",
       "    <tr>\n",
       "      <th>39</th>\n",
       "      <td>145000.0</td>\n",
       "      <td>1h, k, alkovi, kph, lasitettu parveke</td>\n",
       "      <td>34.0</td>\n",
       "      <td>Kerrostalo</td>\n",
       "      <td>Kannelmäki</td>\n",
       "    </tr>\n",
       "    <tr>\n",
       "      <th>100</th>\n",
       "      <td>145000.0</td>\n",
       "      <td>2h, k, kph, p</td>\n",
       "      <td>52.5</td>\n",
       "      <td>Kerrostalo</td>\n",
       "      <td>Kontula</td>\n",
       "    </tr>\n",
       "    <tr>\n",
       "      <th>106</th>\n",
       "      <td>155000.0</td>\n",
       "      <td>2h, k, kph, lasit.parveke</td>\n",
       "      <td>58.5</td>\n",
       "      <td>Kerrostalo</td>\n",
       "      <td>Meri-Rastila</td>\n",
       "    </tr>\n",
       "    <tr>\n",
       "      <th>44</th>\n",
       "      <td>165000.0</td>\n",
       "      <td>2h+kk+kph+p</td>\n",
       "      <td>47.0</td>\n",
       "      <td>Kerrostalo</td>\n",
       "      <td>Vuosaari</td>\n",
       "    </tr>\n",
       "    <tr>\n",
       "      <th>64</th>\n",
       "      <td>165000.0</td>\n",
       "      <td>2h, k, kph, p</td>\n",
       "      <td>52.0</td>\n",
       "      <td>Kerrostalo</td>\n",
       "      <td>Kontula</td>\n",
       "    </tr>\n",
       "    <tr>\n",
       "      <th>112</th>\n",
       "      <td>165000.0</td>\n",
       "      <td>1 h, alkovi, kk, kph (Yj.1h+kk+kh)</td>\n",
       "      <td>31.0</td>\n",
       "      <td>Kerrostalo</td>\n",
       "      <td>Itä-Pasila</td>\n",
       "    </tr>\n",
       "  </tbody>\n",
       "</table>\n",
       "</div>"
      ],
      "text/plain": [
       "        price                                  rooms  size        type  \\\n",
       "83        0.0                                 1h + k  35.0  Kerrostalo   \n",
       "74    12278.0                                   3H+K  73.5  Kerrostalo   \n",
       "80    30241.0                                 3H+K+S  71.0    Paritalo   \n",
       "29   135600.0                           1h+kk+kph-wc  29.5  Kerrostalo   \n",
       "39   145000.0  1h, k, alkovi, kph, lasitettu parveke  34.0  Kerrostalo   \n",
       "100  145000.0                          2h, k, kph, p  52.5  Kerrostalo   \n",
       "106  155000.0              2h, k, kph, lasit.parveke  58.5  Kerrostalo   \n",
       "44   165000.0                            2h+kk+kph+p  47.0  Kerrostalo   \n",
       "64   165000.0                          2h, k, kph, p  52.0  Kerrostalo   \n",
       "112  165000.0     1 h, alkovi, kk, kph (Yj.1h+kk+kh)  31.0  Kerrostalo   \n",
       "\n",
       "             area  \n",
       "83        Kaarela  \n",
       "74       Vuosaari  \n",
       "80    Tapaninkylä  \n",
       "29       Yliskylä  \n",
       "39     Kannelmäki  \n",
       "100       Kontula  \n",
       "106  Meri-Rastila  \n",
       "44       Vuosaari  \n",
       "64        Kontula  \n",
       "112    Itä-Pasila  "
      ]
     },
     "execution_count": 35,
     "metadata": {},
     "output_type": "execute_result"
    }
   ],
   "source": [
    "d.nsmallest(10,\"price\")"
   ]
  },
  {
   "cell_type": "code",
   "execution_count": 36,
   "metadata": {},
   "outputs": [
    {
     "data": {
      "text/html": [
       "<div>\n",
       "<style scoped>\n",
       "    .dataframe tbody tr th:only-of-type {\n",
       "        vertical-align: middle;\n",
       "    }\n",
       "\n",
       "    .dataframe tbody tr th {\n",
       "        vertical-align: top;\n",
       "    }\n",
       "\n",
       "    .dataframe thead th {\n",
       "        text-align: right;\n",
       "    }\n",
       "</style>\n",
       "<table border=\"1\" class=\"dataframe\">\n",
       "  <thead>\n",
       "    <tr style=\"text-align: right;\">\n",
       "      <th></th>\n",
       "      <th>price</th>\n",
       "      <th>rooms</th>\n",
       "      <th>size</th>\n",
       "      <th>type</th>\n",
       "      <th>area</th>\n",
       "    </tr>\n",
       "  </thead>\n",
       "  <tbody>\n",
       "    <tr>\n",
       "      <th>74</th>\n",
       "      <td>12278.0</td>\n",
       "      <td>3H+K</td>\n",
       "      <td>73.5</td>\n",
       "      <td>Kerrostalo</td>\n",
       "      <td>Vuosaari</td>\n",
       "    </tr>\n",
       "    <tr>\n",
       "      <th>80</th>\n",
       "      <td>30241.0</td>\n",
       "      <td>3H+K+S</td>\n",
       "      <td>71.0</td>\n",
       "      <td>Paritalo</td>\n",
       "      <td>Tapaninkylä</td>\n",
       "    </tr>\n",
       "    <tr>\n",
       "      <th>29</th>\n",
       "      <td>135600.0</td>\n",
       "      <td>1h+kk+kph-wc</td>\n",
       "      <td>29.5</td>\n",
       "      <td>Kerrostalo</td>\n",
       "      <td>Yliskylä</td>\n",
       "    </tr>\n",
       "    <tr>\n",
       "      <th>39</th>\n",
       "      <td>145000.0</td>\n",
       "      <td>1h, k, alkovi, kph, lasitettu parveke</td>\n",
       "      <td>34.0</td>\n",
       "      <td>Kerrostalo</td>\n",
       "      <td>Kannelmäki</td>\n",
       "    </tr>\n",
       "    <tr>\n",
       "      <th>100</th>\n",
       "      <td>145000.0</td>\n",
       "      <td>2h, k, kph, p</td>\n",
       "      <td>52.5</td>\n",
       "      <td>Kerrostalo</td>\n",
       "      <td>Kontula</td>\n",
       "    </tr>\n",
       "    <tr>\n",
       "      <th>106</th>\n",
       "      <td>155000.0</td>\n",
       "      <td>2h, k, kph, lasit.parveke</td>\n",
       "      <td>58.5</td>\n",
       "      <td>Kerrostalo</td>\n",
       "      <td>Meri-Rastila</td>\n",
       "    </tr>\n",
       "    <tr>\n",
       "      <th>44</th>\n",
       "      <td>165000.0</td>\n",
       "      <td>2h+kk+kph+p</td>\n",
       "      <td>47.0</td>\n",
       "      <td>Kerrostalo</td>\n",
       "      <td>Vuosaari</td>\n",
       "    </tr>\n",
       "    <tr>\n",
       "      <th>64</th>\n",
       "      <td>165000.0</td>\n",
       "      <td>2h, k, kph, p</td>\n",
       "      <td>52.0</td>\n",
       "      <td>Kerrostalo</td>\n",
       "      <td>Kontula</td>\n",
       "    </tr>\n",
       "    <tr>\n",
       "      <th>112</th>\n",
       "      <td>165000.0</td>\n",
       "      <td>1 h, alkovi, kk, kph (Yj.1h+kk+kh)</td>\n",
       "      <td>31.0</td>\n",
       "      <td>Kerrostalo</td>\n",
       "      <td>Itä-Pasila</td>\n",
       "    </tr>\n",
       "    <tr>\n",
       "      <th>52</th>\n",
       "      <td>168000.0</td>\n",
       "      <td>1h, avok, kph, s, wc, vh, piha</td>\n",
       "      <td>36.5</td>\n",
       "      <td>Rivitalo</td>\n",
       "      <td>Tapaninkylä</td>\n",
       "    </tr>\n",
       "  </tbody>\n",
       "</table>\n",
       "</div>"
      ],
      "text/plain": [
       "        price                                  rooms  size        type  \\\n",
       "74    12278.0                                   3H+K  73.5  Kerrostalo   \n",
       "80    30241.0                                 3H+K+S  71.0    Paritalo   \n",
       "29   135600.0                           1h+kk+kph-wc  29.5  Kerrostalo   \n",
       "39   145000.0  1h, k, alkovi, kph, lasitettu parveke  34.0  Kerrostalo   \n",
       "100  145000.0                          2h, k, kph, p  52.5  Kerrostalo   \n",
       "106  155000.0              2h, k, kph, lasit.parveke  58.5  Kerrostalo   \n",
       "44   165000.0                            2h+kk+kph+p  47.0  Kerrostalo   \n",
       "64   165000.0                          2h, k, kph, p  52.0  Kerrostalo   \n",
       "112  165000.0     1 h, alkovi, kk, kph (Yj.1h+kk+kh)  31.0  Kerrostalo   \n",
       "52   168000.0         1h, avok, kph, s, wc, vh, piha  36.5    Rivitalo   \n",
       "\n",
       "             area  \n",
       "74       Vuosaari  \n",
       "80    Tapaninkylä  \n",
       "29       Yliskylä  \n",
       "39     Kannelmäki  \n",
       "100       Kontula  \n",
       "106  Meri-Rastila  \n",
       "44       Vuosaari  \n",
       "64        Kontula  \n",
       "112    Itä-Pasila  \n",
       "52    Tapaninkylä  "
      ]
     },
     "execution_count": 36,
     "metadata": {},
     "output_type": "execute_result"
    }
   ],
   "source": [
    "d=d.drop(83,axis=0)\n",
    "d.nsmallest(10,\"price\")"
   ]
  },
  {
   "cell_type": "code",
   "execution_count": 37,
   "metadata": {},
   "outputs": [
    {
     "data": {
      "text/html": [
       "<div>\n",
       "<style scoped>\n",
       "    .dataframe tbody tr th:only-of-type {\n",
       "        vertical-align: middle;\n",
       "    }\n",
       "\n",
       "    .dataframe tbody tr th {\n",
       "        vertical-align: top;\n",
       "    }\n",
       "\n",
       "    .dataframe thead th {\n",
       "        text-align: right;\n",
       "    }\n",
       "</style>\n",
       "<table border=\"1\" class=\"dataframe\">\n",
       "  <thead>\n",
       "    <tr style=\"text-align: right;\">\n",
       "      <th></th>\n",
       "      <th>price</th>\n",
       "      <th>size</th>\n",
       "    </tr>\n",
       "  </thead>\n",
       "  <tbody>\n",
       "    <tr>\n",
       "      <th>count</th>\n",
       "      <td>1.190000e+02</td>\n",
       "      <td>119.000000</td>\n",
       "    </tr>\n",
       "    <tr>\n",
       "      <th>mean</th>\n",
       "      <td>3.697729e+05</td>\n",
       "      <td>62.367227</td>\n",
       "    </tr>\n",
       "    <tr>\n",
       "      <th>std</th>\n",
       "      <td>2.023347e+05</td>\n",
       "      <td>27.625139</td>\n",
       "    </tr>\n",
       "    <tr>\n",
       "      <th>min</th>\n",
       "      <td>1.227800e+04</td>\n",
       "      <td>17.100000</td>\n",
       "    </tr>\n",
       "    <tr>\n",
       "      <th>25%</th>\n",
       "      <td>2.397540e+05</td>\n",
       "      <td>43.500000</td>\n",
       "    </tr>\n",
       "    <tr>\n",
       "      <th>50%</th>\n",
       "      <td>3.262330e+05</td>\n",
       "      <td>58.500000</td>\n",
       "    </tr>\n",
       "    <tr>\n",
       "      <th>75%</th>\n",
       "      <td>4.435000e+05</td>\n",
       "      <td>77.750000</td>\n",
       "    </tr>\n",
       "    <tr>\n",
       "      <th>max</th>\n",
       "      <td>1.630000e+06</td>\n",
       "      <td>181.500000</td>\n",
       "    </tr>\n",
       "  </tbody>\n",
       "</table>\n",
       "</div>"
      ],
      "text/plain": [
       "              price        size\n",
       "count  1.190000e+02  119.000000\n",
       "mean   3.697729e+05   62.367227\n",
       "std    2.023347e+05   27.625139\n",
       "min    1.227800e+04   17.100000\n",
       "25%    2.397540e+05   43.500000\n",
       "50%    3.262330e+05   58.500000\n",
       "75%    4.435000e+05   77.750000\n",
       "max    1.630000e+06  181.500000"
      ]
     },
     "execution_count": 37,
     "metadata": {},
     "output_type": "execute_result"
    }
   ],
   "source": [
    "d.describe()"
   ]
  },
  {
   "cell_type": "code",
   "execution_count": 38,
   "metadata": {},
   "outputs": [
    {
     "data": {
      "text/plain": [
       "<AxesSubplot:xlabel='area', ylabel='count'>"
      ]
     },
     "execution_count": 38,
     "metadata": {},
     "output_type": "execute_result"
    },
    {
     "data": {
      "image/png": "[encoded data removed]",
      "text/plain": [
       "<Figure size 1440x360 with 1 Axes>"
      ]
     },
     "metadata": {
      "needs_background": "light"
     },
     "output_type": "display_data"
    }
   ],
   "source": [
    "plt.figure(figsize=(20,5))\n",
    "sns.countplot(x=d.area)"
   ]
  },
  {
   "cell_type": "code",
   "execution_count": 39,
   "metadata": {},
   "outputs": [
    {
     "data": {
      "text/plain": [
       "<AxesSubplot:xlabel='type', ylabel='count'>"
      ]
     },
     "execution_count": 39,
     "metadata": {},
     "output_type": "execute_result"
    },
    {
     "data": {
      "image/png": "[encoded data removed]",
      "text/plain": [
       "<Figure size 432x288 with 1 Axes>"
      ]
     },
     "metadata": {
      "needs_background": "light"
     },
     "output_type": "display_data"
    }
   ],
   "source": [
    "sns.countplot(x=d.type)"
   ]
  },
  {
   "cell_type": "code",
   "execution_count": 40,
   "metadata": {},
   "outputs": [
    {
     "data": {
      "text/plain": [
       "<seaborn.axisgrid.FacetGrid at 0x18f04bc2cb0>"
      ]
     },
     "execution_count": 40,
     "metadata": {},
     "output_type": "execute_result"
    },
    {
     "data": {
      "image/png": "[encoded data removed]",
      "text/plain": [
       "<Figure size 446.125x360 with 1 Axes>"
      ]
     },
     "metadata": {
      "needs_background": "light"
     },
     "output_type": "display_data"
    }
   ],
   "source": [
    "sns.relplot(data=d,x=\"size\", y=\"price\",hue=\"type\")"
   ]
  },
  {
   "cell_type": "code",
   "execution_count": 41,
   "metadata": {},
   "outputs": [],
   "source": [
    "d[\"p/s\"]=d.price/d[\"size\"]"
   ]
  },
  {
   "cell_type": "code",
   "execution_count": 42,
   "metadata": {},
   "outputs": [
    {
     "data": {
      "text/plain": [
       "<AxesSubplot:xlabel='type', ylabel='p/s'>"
      ]
     },
     "execution_count": 42,
     "metadata": {},
     "output_type": "execute_result"
    },
    {
     "data": {
      "image/png": "[encoded data removed]",
      "text/plain": [
       "<Figure size 432x288 with 1 Axes>"
      ]
     },
     "metadata": {
      "needs_background": "light"
     },
     "output_type": "display_data"
    }
   ],
   "source": [
    "sns.swarmplot(data=d, x=\"type\",y=\"p/s\")"
   ]
  },
  {
   "cell_type": "code",
   "execution_count": 43,
   "metadata": {},
   "outputs": [
    {
     "name": "stdout",
     "output_type": "stream",
     "text": [
      "<class 'pandas.core.frame.DataFrame'>\n",
      "Int64Index: 118 entries, 0 to 119\n",
      "Data columns (total 6 columns):\n",
      " #   Column  Non-Null Count  Dtype  \n",
      "---  ------  --------------  -----  \n",
      " 0   price   118 non-null    float64\n",
      " 1   rooms   118 non-null    string \n",
      " 2   size    118 non-null    float64\n",
      " 3   type    118 non-null    string \n",
      " 4   area    118 non-null    string \n",
      " 5   p/s     118 non-null    float64\n",
      "dtypes: float64(3), string(3)\n",
      "memory usage: 6.5 KB\n"
     ]
    }
   ],
   "source": [
    "e = d.drop_duplicates()\n",
    "e.info()"
   ]
  },
  {
   "cell_type": "markdown",
   "metadata": {},
   "source": [
    "We try to grab the number of rooms from the description. most posts start with the number (followed by \"h\" for huone)"
   ]
  },
  {
   "cell_type": "code",
   "execution_count": 44,
   "metadata": {},
   "outputs": [],
   "source": [
    "d[\"n_room\"]=d.rooms.str[0]"
   ]
  },
  {
   "cell_type": "code",
   "execution_count": 45,
   "metadata": {},
   "outputs": [
    {
     "data": {
      "text/html": [
       "<div>\n",
       "<style scoped>\n",
       "    .dataframe tbody tr th:only-of-type {\n",
       "        vertical-align: middle;\n",
       "    }\n",
       "\n",
       "    .dataframe tbody tr th {\n",
       "        vertical-align: top;\n",
       "    }\n",
       "\n",
       "    .dataframe thead th {\n",
       "        text-align: right;\n",
       "    }\n",
       "</style>\n",
       "<table border=\"1\" class=\"dataframe\">\n",
       "  <thead>\n",
       "    <tr style=\"text-align: right;\">\n",
       "      <th></th>\n",
       "      <th>price</th>\n",
       "      <th>rooms</th>\n",
       "      <th>size</th>\n",
       "      <th>type</th>\n",
       "      <th>area</th>\n",
       "      <th>p/s</th>\n",
       "      <th>n_room</th>\n",
       "    </tr>\n",
       "  </thead>\n",
       "  <tbody>\n",
       "    <tr>\n",
       "      <th>0</th>\n",
       "      <td>775000.0</td>\n",
       "      <td>3 h, k, kph/ wc (yj muk. 3h+k)</td>\n",
       "      <td>86.2</td>\n",
       "      <td>Kerrostalo</td>\n",
       "      <td>Etu-Töölö</td>\n",
       "      <td>8990.719258</td>\n",
       "      <td>3</td>\n",
       "    </tr>\n",
       "    <tr>\n",
       "      <th>1</th>\n",
       "      <td>409000.0</td>\n",
       "      <td>3h+kt+s+piha ja terassi (Yj:n mukaan 3h+kt+s)</td>\n",
       "      <td>82.0</td>\n",
       "      <td>Paritalo</td>\n",
       "      <td>Malmi</td>\n",
       "      <td>4987.804878</td>\n",
       "      <td>3</td>\n",
       "    </tr>\n",
       "    <tr>\n",
       "      <th>2</th>\n",
       "      <td>315000.0</td>\n",
       "      <td>4h+kph+wc+vh+lasitettu parveke (yhtiöjärjestyk...</td>\n",
       "      <td>80.5</td>\n",
       "      <td>Kerrostalo</td>\n",
       "      <td>Vuosaari</td>\n",
       "      <td>3913.043478</td>\n",
       "      <td>4</td>\n",
       "    </tr>\n",
       "    <tr>\n",
       "      <th>3</th>\n",
       "      <td>229000.0</td>\n",
       "      <td>3h+kk+kph+s+wc+p+piha (yhtiöjärjestyksen mukaa...</td>\n",
       "      <td>78.0</td>\n",
       "      <td>Rivitalo</td>\n",
       "      <td>Siltamäki</td>\n",
       "      <td>2935.897436</td>\n",
       "      <td>3</td>\n",
       "    </tr>\n",
       "    <tr>\n",
       "      <th>4</th>\n",
       "      <td>228000.0</td>\n",
       "      <td>2h+kk+kph+parveke (yhtiöjärjestyksen mukaan 2h...</td>\n",
       "      <td>43.0</td>\n",
       "      <td>Kerrostalo</td>\n",
       "      <td>Lauttasaari</td>\n",
       "      <td>5302.325581</td>\n",
       "      <td>2</td>\n",
       "    </tr>\n",
       "  </tbody>\n",
       "</table>\n",
       "</div>"
      ],
      "text/plain": [
       "      price                                              rooms  size  \\\n",
       "0  775000.0                     3 h, k, kph/ wc (yj muk. 3h+k)  86.2   \n",
       "1  409000.0      3h+kt+s+piha ja terassi (Yj:n mukaan 3h+kt+s)  82.0   \n",
       "2  315000.0  4h+kph+wc+vh+lasitettu parveke (yhtiöjärjestyk...  80.5   \n",
       "3  229000.0  3h+kk+kph+s+wc+p+piha (yhtiöjärjestyksen mukaa...  78.0   \n",
       "4  228000.0  2h+kk+kph+parveke (yhtiöjärjestyksen mukaan 2h...  43.0   \n",
       "\n",
       "         type         area          p/s n_room  \n",
       "0  Kerrostalo    Etu-Töölö  8990.719258      3  \n",
       "1    Paritalo        Malmi  4987.804878      3  \n",
       "2  Kerrostalo     Vuosaari  3913.043478      4  \n",
       "3    Rivitalo    Siltamäki  2935.897436      3  \n",
       "4  Kerrostalo  Lauttasaari  5302.325581      2  "
      ]
     },
     "execution_count": 45,
     "metadata": {},
     "output_type": "execute_result"
    }
   ],
   "source": [
    "d.head()"
   ]
  },
  {
   "cell_type": "markdown",
   "metadata": {},
   "source": [
    "we check what we got with this approach and look at the special cases:"
   ]
  },
  {
   "cell_type": "code",
   "execution_count": 46,
   "metadata": {},
   "outputs": [
    {
     "data": {
      "text/plain": [
       "<StringArray>\n",
       "['3', '4', '2', '1', 'K', '5', 'O', 'k']\n",
       "Length: 8, dtype: string"
      ]
     },
     "execution_count": 46,
     "metadata": {},
     "output_type": "execute_result"
    }
   ],
   "source": [
    "d[\"n_room\"].unique()"
   ]
  },
  {
   "cell_type": "code",
   "execution_count": 47,
   "metadata": {},
   "outputs": [
    {
     "data": {
      "text/html": [
       "<div>\n",
       "<style scoped>\n",
       "    .dataframe tbody tr th:only-of-type {\n",
       "        vertical-align: middle;\n",
       "    }\n",
       "\n",
       "    .dataframe tbody tr th {\n",
       "        vertical-align: top;\n",
       "    }\n",
       "\n",
       "    .dataframe thead th {\n",
       "        text-align: right;\n",
       "    }\n",
       "</style>\n",
       "<table border=\"1\" class=\"dataframe\">\n",
       "  <thead>\n",
       "    <tr style=\"text-align: right;\">\n",
       "      <th></th>\n",
       "      <th>price</th>\n",
       "      <th>rooms</th>\n",
       "      <th>size</th>\n",
       "      <th>type</th>\n",
       "      <th>area</th>\n",
       "      <th>p/s</th>\n",
       "      <th>n_room</th>\n",
       "    </tr>\n",
       "  </thead>\n",
       "  <tbody>\n",
       "    <tr>\n",
       "      <th>97</th>\n",
       "      <td>270000.0</td>\n",
       "      <td>kaksio, avok, kph</td>\n",
       "      <td>34.1</td>\n",
       "      <td>Kerrostalo</td>\n",
       "      <td>Meilahti</td>\n",
       "      <td>7917.888563</td>\n",
       "      <td>k</td>\n",
       "    </tr>\n",
       "  </tbody>\n",
       "</table>\n",
       "</div>"
      ],
      "text/plain": [
       "       price              rooms  size        type      area          p/s  \\\n",
       "97  270000.0  kaksio, avok, kph  34.1  Kerrostalo  Meilahti  7917.888563   \n",
       "\n",
       "   n_room  \n",
       "97      k  "
      ]
     },
     "execution_count": 47,
     "metadata": {},
     "output_type": "execute_result"
    }
   ],
   "source": [
    "d[d[\"n_room\"]==\"k\"]"
   ]
  },
  {
   "cell_type": "code",
   "execution_count": 48,
   "metadata": {},
   "outputs": [
    {
     "data": {
      "text/plain": [
       "price              270000.0\n",
       "rooms     kaksio, avok, kph\n",
       "size                   34.1\n",
       "type             Kerrostalo\n",
       "area               Meilahti\n",
       "p/s             7917.888563\n",
       "n_room                    2\n",
       "Name: 97, dtype: object"
      ]
     },
     "execution_count": 48,
     "metadata": {},
     "output_type": "execute_result"
    }
   ],
   "source": [
    "d.at[97,\"n_room\"]=\"2\"\n",
    "d.loc[97]"
   ]
  },
  {
   "cell_type": "code",
   "execution_count": 49,
   "metadata": {},
   "outputs": [
    {
     "data": {
      "text/html": [
       "<div>\n",
       "<style scoped>\n",
       "    .dataframe tbody tr th:only-of-type {\n",
       "        vertical-align: middle;\n",
       "    }\n",
       "\n",
       "    .dataframe tbody tr th {\n",
       "        vertical-align: top;\n",
       "    }\n",
       "\n",
       "    .dataframe thead th {\n",
       "        text-align: right;\n",
       "    }\n",
       "</style>\n",
       "<table border=\"1\" class=\"dataframe\">\n",
       "  <thead>\n",
       "    <tr style=\"text-align: right;\">\n",
       "      <th></th>\n",
       "      <th>price</th>\n",
       "      <th>rooms</th>\n",
       "      <th>size</th>\n",
       "      <th>type</th>\n",
       "      <th>area</th>\n",
       "      <th>p/s</th>\n",
       "      <th>n_room</th>\n",
       "    </tr>\n",
       "  </thead>\n",
       "  <tbody>\n",
       "    <tr>\n",
       "      <th>16</th>\n",
       "      <td>237000.0</td>\n",
       "      <td>Kaunis parvekkeellinen koti v.2019 valmistunee...</td>\n",
       "      <td>51.5</td>\n",
       "      <td>Kerrostalo</td>\n",
       "      <td>Kuninkaantammi</td>\n",
       "      <td>4601.941748</td>\n",
       "      <td>K</td>\n",
       "    </tr>\n",
       "  </tbody>\n",
       "</table>\n",
       "</div>"
      ],
      "text/plain": [
       "       price                                              rooms  size  \\\n",
       "16  237000.0  Kaunis parvekkeellinen koti v.2019 valmistunee...  51.5   \n",
       "\n",
       "          type            area          p/s n_room  \n",
       "16  Kerrostalo  Kuninkaantammi  4601.941748      K  "
      ]
     },
     "execution_count": 49,
     "metadata": {},
     "output_type": "execute_result"
    }
   ],
   "source": [
    "d[d[\"n_room\"]==\"K\"]"
   ]
  },
  {
   "cell_type": "markdown",
   "metadata": {},
   "source": [
    "we can't see the number of rooms from this description, so we drop this row for now."
   ]
  },
  {
   "cell_type": "code",
   "execution_count": 50,
   "metadata": {},
   "outputs": [],
   "source": [
    "d=d.drop(16,axis=0)"
   ]
  },
  {
   "cell_type": "code",
   "execution_count": 51,
   "metadata": {},
   "outputs": [
    {
     "data": {
      "text/html": [
       "<div>\n",
       "<style scoped>\n",
       "    .dataframe tbody tr th:only-of-type {\n",
       "        vertical-align: middle;\n",
       "    }\n",
       "\n",
       "    .dataframe tbody tr th {\n",
       "        vertical-align: top;\n",
       "    }\n",
       "\n",
       "    .dataframe thead th {\n",
       "        text-align: right;\n",
       "    }\n",
       "</style>\n",
       "<table border=\"1\" class=\"dataframe\">\n",
       "  <thead>\n",
       "    <tr style=\"text-align: right;\">\n",
       "      <th></th>\n",
       "      <th>price</th>\n",
       "      <th>rooms</th>\n",
       "      <th>size</th>\n",
       "      <th>type</th>\n",
       "      <th>area</th>\n",
       "      <th>p/s</th>\n",
       "      <th>n_room</th>\n",
       "    </tr>\n",
       "  </thead>\n",
       "  <tbody>\n",
       "    <tr>\n",
       "      <th>66</th>\n",
       "      <td>248000.0</td>\n",
       "      <td>Oh+2 mh+kph+s+wc+vh+lasitettu parveke (yhtiöjä...</td>\n",
       "      <td>75.0</td>\n",
       "      <td>Kerrostalo</td>\n",
       "      <td>Kannelmäki</td>\n",
       "      <td>3306.666667</td>\n",
       "      <td>O</td>\n",
       "    </tr>\n",
       "  </tbody>\n",
       "</table>\n",
       "</div>"
      ],
      "text/plain": [
       "       price                                              rooms  size  \\\n",
       "66  248000.0  Oh+2 mh+kph+s+wc+vh+lasitettu parveke (yhtiöjä...  75.0   \n",
       "\n",
       "          type        area          p/s n_room  \n",
       "66  Kerrostalo  Kannelmäki  3306.666667      O  "
      ]
     },
     "execution_count": 51,
     "metadata": {},
     "output_type": "execute_result"
    }
   ],
   "source": [
    "d[d[\"n_room\"]==\"O\"]"
   ]
  },
  {
   "cell_type": "markdown",
   "metadata": {},
   "source": [
    "living room plus two sleeping rooms ->3"
   ]
  },
  {
   "cell_type": "code",
   "execution_count": 54,
   "metadata": {},
   "outputs": [
    {
     "data": {
      "text/plain": [
       "price                                              248000.0\n",
       "rooms     Oh+2 mh+kph+s+wc+vh+lasitettu parveke (yhtiöjä...\n",
       "size                                                   75.0\n",
       "type                                             Kerrostalo\n",
       "area                                             Kannelmäki\n",
       "p/s                                             3306.666667\n",
       "n_room                                                    3\n",
       "Name: 66, dtype: object"
      ]
     },
     "execution_count": 54,
     "metadata": {},
     "output_type": "execute_result"
    }
   ],
   "source": [
    "d.at[66,\"n_room\"]=\"3\"\n",
    "d.loc[66]"
   ]
  },
  {
   "cell_type": "code",
   "execution_count": 55,
   "metadata": {},
   "outputs": [
    {
     "data": {
      "text/plain": [
       "array([3, 4, 2, 1, 5], dtype=int8)"
      ]
     },
     "execution_count": 55,
     "metadata": {},
     "output_type": "execute_result"
    }
   ],
   "source": [
    "d.n_room=pd.to_numeric(d.n_room, downcast=\"integer\")\n",
    "d[\"n_room\"].unique()"
   ]
  },
  {
   "cell_type": "code",
   "execution_count": 56,
   "metadata": {},
   "outputs": [
    {
     "data": {
      "text/plain": [
       "<seaborn.axisgrid.FacetGrid at 0x18f04e9ce20>"
      ]
     },
     "execution_count": 56,
     "metadata": {},
     "output_type": "execute_result"
    },
    {
     "data": {
      "image/png": "[encoded data removed]",
      "text/plain": [
       "<Figure size 446.125x360 with 1 Axes>"
      ]
     },
     "metadata": {
      "needs_background": "light"
     },
     "output_type": "display_data"
    }
   ],
   "source": [
    "sns.relplot(data=d,x=\"p/s\",y=\"n_room\",hue=\"type\")"
   ]
  },
  {
   "cell_type": "markdown",
   "metadata": {},
   "source": [
    "it looks as if appartments with less rooms have a higher sqm price."
   ]
  },
  {
   "cell_type": "code",
   "execution_count": 57,
   "metadata": {},
   "outputs": [
    {
     "data": {
      "text/html": [
       "<div>\n",
       "<style scoped>\n",
       "    .dataframe tbody tr th:only-of-type {\n",
       "        vertical-align: middle;\n",
       "    }\n",
       "\n",
       "    .dataframe tbody tr th {\n",
       "        vertical-align: top;\n",
       "    }\n",
       "\n",
       "    .dataframe thead th {\n",
       "        text-align: right;\n",
       "    }\n",
       "</style>\n",
       "<table border=\"1\" class=\"dataframe\">\n",
       "  <thead>\n",
       "    <tr style=\"text-align: right;\">\n",
       "      <th></th>\n",
       "      <th>price</th>\n",
       "      <th>size</th>\n",
       "      <th>p/s</th>\n",
       "      <th>n_room</th>\n",
       "    </tr>\n",
       "  </thead>\n",
       "  <tbody>\n",
       "    <tr>\n",
       "      <th>count</th>\n",
       "      <td>1.180000e+02</td>\n",
       "      <td>118.000000</td>\n",
       "      <td>118.000000</td>\n",
       "      <td>118.000000</td>\n",
       "    </tr>\n",
       "    <tr>\n",
       "      <th>mean</th>\n",
       "      <td>3.708981e+05</td>\n",
       "      <td>62.459322</td>\n",
       "      <td>6323.168295</td>\n",
       "      <td>2.364407</td>\n",
       "    </tr>\n",
       "    <tr>\n",
       "      <th>std</th>\n",
       "      <td>2.028233e+05</td>\n",
       "      <td>27.724593</td>\n",
       "      <td>2367.174448</td>\n",
       "      <td>1.075486</td>\n",
       "    </tr>\n",
       "    <tr>\n",
       "      <th>min</th>\n",
       "      <td>1.227800e+04</td>\n",
       "      <td>17.100000</td>\n",
       "      <td>167.047619</td>\n",
       "      <td>1.000000</td>\n",
       "    </tr>\n",
       "    <tr>\n",
       "      <th>25%</th>\n",
       "      <td>2.435000e+05</td>\n",
       "      <td>43.250000</td>\n",
       "      <td>4267.494929</td>\n",
       "      <td>2.000000</td>\n",
       "    </tr>\n",
       "    <tr>\n",
       "      <th>50%</th>\n",
       "      <td>3.271165e+05</td>\n",
       "      <td>58.500000</td>\n",
       "      <td>6553.633094</td>\n",
       "      <td>2.000000</td>\n",
       "    </tr>\n",
       "    <tr>\n",
       "      <th>75%</th>\n",
       "      <td>4.457500e+05</td>\n",
       "      <td>77.875000</td>\n",
       "      <td>8145.614955</td>\n",
       "      <td>3.000000</td>\n",
       "    </tr>\n",
       "    <tr>\n",
       "      <th>max</th>\n",
       "      <td>1.630000e+06</td>\n",
       "      <td>181.500000</td>\n",
       "      <td>11988.304094</td>\n",
       "      <td>5.000000</td>\n",
       "    </tr>\n",
       "  </tbody>\n",
       "</table>\n",
       "</div>"
      ],
      "text/plain": [
       "              price        size           p/s      n_room\n",
       "count  1.180000e+02  118.000000    118.000000  118.000000\n",
       "mean   3.708981e+05   62.459322   6323.168295    2.364407\n",
       "std    2.028233e+05   27.724593   2367.174448    1.075486\n",
       "min    1.227800e+04   17.100000    167.047619    1.000000\n",
       "25%    2.435000e+05   43.250000   4267.494929    2.000000\n",
       "50%    3.271165e+05   58.500000   6553.633094    2.000000\n",
       "75%    4.457500e+05   77.875000   8145.614955    3.000000\n",
       "max    1.630000e+06  181.500000  11988.304094    5.000000"
      ]
     },
     "execution_count": 57,
     "metadata": {},
     "output_type": "execute_result"
    }
   ],
   "source": [
    "d.describe()"
   ]
  },
  {
   "cell_type": "code",
   "execution_count": 58,
   "metadata": {},
   "outputs": [],
   "source": [
    "by_district=d.groupby([\"area\",\"type\",\"n_room\"])[\"p/s\"].mean().reset_index()"
   ]
  },
  {
   "cell_type": "code",
   "execution_count": 59,
   "metadata": {},
   "outputs": [
    {
     "data": {
      "text/html": [
       "<div>\n",
       "<style scoped>\n",
       "    .dataframe tbody tr th:only-of-type {\n",
       "        vertical-align: middle;\n",
       "    }\n",
       "\n",
       "    .dataframe tbody tr th {\n",
       "        vertical-align: top;\n",
       "    }\n",
       "\n",
       "    .dataframe thead th {\n",
       "        text-align: right;\n",
       "    }\n",
       "</style>\n",
       "<table border=\"1\" class=\"dataframe\">\n",
       "  <thead>\n",
       "    <tr style=\"text-align: right;\">\n",
       "      <th></th>\n",
       "      <th>area</th>\n",
       "      <th>type</th>\n",
       "      <th>n_room</th>\n",
       "      <th>p/s</th>\n",
       "    </tr>\n",
       "  </thead>\n",
       "  <tbody>\n",
       "    <tr>\n",
       "      <th>0</th>\n",
       "      <td>Ala-Tikkurila</td>\n",
       "      <td>Paritalo</td>\n",
       "      <td>4</td>\n",
       "      <td>3425.287356</td>\n",
       "    </tr>\n",
       "    <tr>\n",
       "      <th>1</th>\n",
       "      <td>Alppiharju</td>\n",
       "      <td>Kerrostalo</td>\n",
       "      <td>1</td>\n",
       "      <td>9350.000000</td>\n",
       "    </tr>\n",
       "    <tr>\n",
       "      <th>2</th>\n",
       "      <td>Alppiharju</td>\n",
       "      <td>Kerrostalo</td>\n",
       "      <td>2</td>\n",
       "      <td>6189.655172</td>\n",
       "    </tr>\n",
       "    <tr>\n",
       "      <th>3</th>\n",
       "      <td>Alppikylä</td>\n",
       "      <td>Rivitalo</td>\n",
       "      <td>4</td>\n",
       "      <td>4010.989011</td>\n",
       "    </tr>\n",
       "    <tr>\n",
       "      <th>4</th>\n",
       "      <td>Alppila</td>\n",
       "      <td>Kerrostalo</td>\n",
       "      <td>1</td>\n",
       "      <td>6769.230769</td>\n",
       "    </tr>\n",
       "  </tbody>\n",
       "</table>\n",
       "</div>"
      ],
      "text/plain": [
       "            area        type  n_room          p/s\n",
       "0  Ala-Tikkurila    Paritalo       4  3425.287356\n",
       "1     Alppiharju  Kerrostalo       1  9350.000000\n",
       "2     Alppiharju  Kerrostalo       2  6189.655172\n",
       "3      Alppikylä    Rivitalo       4  4010.989011\n",
       "4        Alppila  Kerrostalo       1  6769.230769"
      ]
     },
     "execution_count": 59,
     "metadata": {},
     "output_type": "execute_result"
    }
   ],
   "source": [
    "by_district.head()"
   ]
  },
  {
   "cell_type": "markdown",
   "metadata": {},
   "source": [
    "most expensive, by sqm-price:"
   ]
  },
  {
   "cell_type": "code",
   "execution_count": 60,
   "metadata": {},
   "outputs": [
    {
     "data": {
      "text/plain": [
       "area       Etu-Töölö\n",
       "type      Kerrostalo\n",
       "n_room             1\n",
       "Name: 9, dtype: object"
      ]
     },
     "execution_count": 60,
     "metadata": {},
     "output_type": "execute_result"
    }
   ],
   "source": [
    "mi=by_district[\"p/s\"].idxmax()\n",
    "by_district.loc[mi,[\"area\",\"type\",\"n_room\"]]"
   ]
  },
  {
   "cell_type": "markdown",
   "metadata": {},
   "source": [
    "cheapest, by sqm price:"
   ]
  },
  {
   "cell_type": "code",
   "execution_count": 61,
   "metadata": {},
   "outputs": [
    {
     "data": {
      "text/plain": [
       "area        Vuosaari\n",
       "type      Kerrostalo\n",
       "n_room             3\n",
       "Name: 91, dtype: object"
      ]
     },
     "execution_count": 61,
     "metadata": {},
     "output_type": "execute_result"
    }
   ],
   "source": [
    "mini=by_district[\"p/s\"].idxmin()\n",
    "by_district.loc[mini,[\"area\",\"type\",\"n_room\"]]"
   ]
  },
  {
   "cell_type": "code",
   "execution_count": 62,
   "metadata": {},
   "outputs": [],
   "source": [
    "kt=d[d.type==\"Kerrostalo\"]"
   ]
  },
  {
   "cell_type": "code",
   "execution_count": 63,
   "metadata": {},
   "outputs": [
    {
     "data": {
      "text/html": [
       "<div>\n",
       "<style scoped>\n",
       "    .dataframe tbody tr th:only-of-type {\n",
       "        vertical-align: middle;\n",
       "    }\n",
       "\n",
       "    .dataframe tbody tr th {\n",
       "        vertical-align: top;\n",
       "    }\n",
       "\n",
       "    .dataframe thead th {\n",
       "        text-align: right;\n",
       "    }\n",
       "</style>\n",
       "<table border=\"1\" class=\"dataframe\">\n",
       "  <thead>\n",
       "    <tr style=\"text-align: right;\">\n",
       "      <th></th>\n",
       "      <th>price</th>\n",
       "      <th>size</th>\n",
       "      <th>p/s</th>\n",
       "      <th>n_room</th>\n",
       "    </tr>\n",
       "  </thead>\n",
       "  <tbody>\n",
       "    <tr>\n",
       "      <th>count</th>\n",
       "      <td>9.700000e+01</td>\n",
       "      <td>97.000000</td>\n",
       "      <td>97.000000</td>\n",
       "      <td>97.00000</td>\n",
       "    </tr>\n",
       "    <tr>\n",
       "      <th>mean</th>\n",
       "      <td>3.712717e+05</td>\n",
       "      <td>57.069072</td>\n",
       "      <td>6749.239926</td>\n",
       "      <td>2.14433</td>\n",
       "    </tr>\n",
       "    <tr>\n",
       "      <th>std</th>\n",
       "      <td>2.137127e+05</td>\n",
       "      <td>24.404808</td>\n",
       "      <td>2308.897458</td>\n",
       "      <td>0.93530</td>\n",
       "    </tr>\n",
       "    <tr>\n",
       "      <th>min</th>\n",
       "      <td>1.227800e+04</td>\n",
       "      <td>17.100000</td>\n",
       "      <td>167.047619</td>\n",
       "      <td>1.00000</td>\n",
       "    </tr>\n",
       "    <tr>\n",
       "      <th>25%</th>\n",
       "      <td>2.375080e+05</td>\n",
       "      <td>36.000000</td>\n",
       "      <td>5027.027027</td>\n",
       "      <td>1.00000</td>\n",
       "    </tr>\n",
       "    <tr>\n",
       "      <th>50%</th>\n",
       "      <td>3.190000e+05</td>\n",
       "      <td>55.000000</td>\n",
       "      <td>7194.444444</td>\n",
       "      <td>2.00000</td>\n",
       "    </tr>\n",
       "    <tr>\n",
       "      <th>75%</th>\n",
       "      <td>4.390000e+05</td>\n",
       "      <td>72.000000</td>\n",
       "      <td>8377.862595</td>\n",
       "      <td>3.00000</td>\n",
       "    </tr>\n",
       "    <tr>\n",
       "      <th>max</th>\n",
       "      <td>1.630000e+06</td>\n",
       "      <td>181.500000</td>\n",
       "      <td>11988.304094</td>\n",
       "      <td>5.00000</td>\n",
       "    </tr>\n",
       "  </tbody>\n",
       "</table>\n",
       "</div>"
      ],
      "text/plain": [
       "              price        size           p/s    n_room\n",
       "count  9.700000e+01   97.000000     97.000000  97.00000\n",
       "mean   3.712717e+05   57.069072   6749.239926   2.14433\n",
       "std    2.137127e+05   24.404808   2308.897458   0.93530\n",
       "min    1.227800e+04   17.100000    167.047619   1.00000\n",
       "25%    2.375080e+05   36.000000   5027.027027   1.00000\n",
       "50%    3.190000e+05   55.000000   7194.444444   2.00000\n",
       "75%    4.390000e+05   72.000000   8377.862595   3.00000\n",
       "max    1.630000e+06  181.500000  11988.304094   5.00000"
      ]
     },
     "execution_count": 63,
     "metadata": {},
     "output_type": "execute_result"
    }
   ],
   "source": [
    "kt.describe()"
   ]
  },
  {
   "cell_type": "code",
   "execution_count": 64,
   "metadata": {},
   "outputs": [
    {
     "data": {
      "text/plain": [
       "<StringArray>\n",
       "[            'Etu-Töölö',              'Vuosaari',           'Lauttasaari',\n",
       "            'Jätkäsaari',             'Hakaniemi',            'Taka-Töölö',\n",
       "                'Kallio',            'Sompasaari',             'Punavuori',\n",
       "                'Viikki',           'Munkkiniemi',                 'Malmi',\n",
       "              'Meilahti',           'Etelä-Haaga',           'Postipuisto',\n",
       "           'Katajanokka',  'Vanhankaupunginkoski',               'Alppila',\n",
       "                 'Töölö',               'Maunula',                'Kamppi',\n",
       "              'Yliskylä',             'Pukinmäki', 'Ruoholahti/Jätkäsaari',\n",
       "            'Kalasatama',      'Pikku Huopalahti',            'Kannelmäki',\n",
       "            'Alppiharju',              'Keskusta',               'Vallila',\n",
       "     'Kruunuvuorenranta',           'Herttoniemi',          'Aurinkolahti',\n",
       "            'Roihuvuori',             'Oulunkylä',         'Pohjois-Haaga',\n",
       "          'Arabianranta',               'Kontula',             'Laajasalo',\n",
       "              'Hermanni',      'Oulunkylä/Patola',             'Sörnäinen',\n",
       "           'Pihlajamäki',                'Savela',       'Kaartinkaupunki',\n",
       "        'Hermanninranta',             'Siltamäki',          'Meri-Rastila',\n",
       "                'Laakso',            'Itä-Pasila',               'Toukola',\n",
       "        'Kuninkaantammi']\n",
       "Length: 52, dtype: string"
      ]
     },
     "execution_count": 64,
     "metadata": {},
     "output_type": "execute_result"
    }
   ],
   "source": [
    "kt.area.unique()"
   ]
  },
  {
   "cell_type": "code",
   "execution_count": 65,
   "metadata": {},
   "outputs": [
    {
     "data": {
      "text/plain": [
       "Hermanninranta           8\n",
       "Kallio                   6\n",
       "Etu-Töölö                5\n",
       "Lauttasaari              5\n",
       "Kamppi                   4\n",
       "Punavuori                4\n",
       "Vuosaari                 3\n",
       "Hakaniemi                3\n",
       "Taka-Töölö               3\n",
       "Töölö                    3\n",
       "Herttoniemi              2\n",
       "Meilahti                 2\n",
       "Alppila                  2\n",
       "Maunula                  2\n",
       "Kaartinkaupunki          2\n",
       "Kannelmäki               2\n",
       "Vallila                  2\n",
       "Kalasatama               2\n",
       "Alppiharju               2\n",
       "Pukinmäki                2\n",
       "Kontula                  2\n",
       "Yliskylä                 1\n",
       "Katajanokka              1\n",
       "Ruoholahti/Jätkäsaari    1\n",
       "Postipuisto              1\n",
       "Pikku Huopalahti         1\n",
       "Pohjois-Haaga            1\n",
       "Etelä-Haaga              1\n",
       "Keskusta                 1\n",
       "Malmi                    1\n",
       "Kruunuvuorenranta        1\n",
       "Munkkiniemi              1\n",
       "Aurinkolahti             1\n",
       "Roihuvuori               1\n",
       "Oulunkylä                1\n",
       "Vanhankaupunginkoski     1\n",
       "Jätkäsaari               1\n",
       "Viikki                   1\n",
       "Laajasalo                1\n",
       "Hermanni                 1\n",
       "Oulunkylä/Patola         1\n",
       "Sörnäinen                1\n",
       "Pihlajamäki              1\n",
       "Savela                   1\n",
       "Sompasaari               1\n",
       "Arabianranta             1\n",
       "Siltamäki                1\n",
       "Meri-Rastila             1\n",
       "Laakso                   1\n",
       "Itä-Pasila               1\n",
       "Toukola                  1\n",
       "Kuninkaantammi           1\n",
       "Name: area, dtype: Int64"
      ]
     },
     "execution_count": 65,
     "metadata": {},
     "output_type": "execute_result"
    }
   ],
   "source": [
    "kt.area.value_counts()"
   ]
  },
  {
   "cell_type": "markdown",
   "metadata": {},
   "source": [
    "most posts were \"kerrostalo\", so for further comparison, we can ignore other house types"
   ]
  },
  {
   "cell_type": "code",
   "execution_count": null,
   "metadata": {},
   "outputs": [],
   "source": [
    "kt.to_csv(\"clean_kt.csv\",index=False)"
   ]
  }
 ],
 "metadata": {
  "kernelspec": {
   "display_name": "Python 3.10.5 64-bit (windows store)",
   "language": "python",
   "name": "python3"
  },
  "language_info": {
   "codemirror_mode": {
    "name": "ipython",
    "version": 3
   },
   "file_extension": ".py",
   "mimetype": "text/x-python",
   "name": "python",
   "nbconvert_exporter": "python",
   "pygments_lexer": "ipython3",
   "version": "3.10.5"
  },
  "orig_nbformat": 4,
  "vscode": {
   "interpreter": {
    "hash": "582bac1d02c6c8cbd27dd91c74044d14e2b63f14cda36d56af554a884b3aa477"
   }
  }
 },
 "nbformat": 4,
 "nbformat_minor": 2
}
